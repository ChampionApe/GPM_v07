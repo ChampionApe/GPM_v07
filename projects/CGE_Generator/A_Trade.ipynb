{
 "cells": [
  {
   "cell_type": "code",
   "execution_count": 1,
   "id": "3acd5342-acaf-46aa-9674-04e116b812d9",
   "metadata": {},
   "outputs": [
    {
     "name": "stdout",
     "output_type": "stream",
     "text": [
      "The file _gams_py_gdb0.gdx is still active and was not deleted.\n",
      "The file _gams_py_gdb1.gdx is still active and was not deleted.\n",
      "The file _gams_py_gdb3.gdx is still active and was not deleted.\n",
      "The file _gams_py_gdb4.gdx is still active and was not deleted.\n"
     ]
    }
   ],
   "source": [
    "clean_up = True\n",
    "%run stdPackages.ipynb"
   ]
  },
  {
   "cell_type": "code",
   "execution_count": 2,
   "id": "ddc3f9af-fa48-4dd8-bb85-1595e9860872",
   "metadata": {},
   "outputs": [],
   "source": [
    "ws = gams.GamsWorkspace(working_directory=d['work']) # specify where you want to run the GAMS models from (here the repository referred to in d['work'])"
   ]
  },
  {
   "cell_type": "markdown",
   "id": "3b4122af-f926-41a5-96ed-ca1d2b3bf9e0",
   "metadata": {},
   "source": [
    "Load standard settings:"
   ]
  },
  {
   "cell_type": "code",
   "execution_count": 3,
   "id": "34e4bd60-4e2d-4c5f-b966-18ed3e517961",
   "metadata": {},
   "outputs": [],
   "source": [
    "name = 'A' # name of model\n",
    "module = name+'Trade'\n",
    "db_IO = GpyDB(f\"{d['data']}\\\\IO_{name}\") # load IO database named IO_name\n",
    "with open(f\"{d['data']}\\\\glob_{name}\",\"rb\") as file: # load global settings anmed glob_name\n",
    "    glob=pickle.load(file)"
   ]
  },
  {
   "cell_type": "markdown",
   "id": "c7a036fe-6dca-4931-a3d0-e476e163b688",
   "metadata": {},
   "source": [
    "For the simple armington module to work, we need to supply:\n",
    "* IO mapping from domestic to foreign goods: ```dom2for[n,nn]``` (global).\n",
    "* Mapping from foreign sector to domestic goods: ```sfor_ndom[s,n]``` (local).\n",
    "* The subset of foreign goods that are substitutes to the domestic ones in ```sfor\\_ndom[s,n]```: ```nOut_f[n]``` (local). This subset is implied by ```sfor_ndom``` and ```dom2for```.\n",
    "\n",
    "Here, we load data on armington elasticities and use this to back out the mapping ```sfor_ndom```: "
   ]
  },
  {
   "cell_type": "code",
   "execution_count": 4,
   "id": "9bf51c57-0a31-4e94-b2ab-e76d5bbe9198",
   "metadata": {},
   "outputs": [],
   "source": [
    "otherData = read.SeriesDB_from_wb(f\"{d['data']}\\\\A_Trade.xlsx\", {'variables': ['vars']})"
   ]
  },
  {
   "cell_type": "markdown",
   "id": "f9649741-e017-4bfd-91c3-1db9d2aaa6ca",
   "metadata": {},
   "source": [
    "Subset the IO data to only keep the sectors that are in this data set:"
   ]
  },
  {
   "cell_type": "code",
   "execution_count": 5,
   "id": "0ff166fc-ccd0-4f2e-ac15-3f15ae9dcdef",
   "metadata": {},
   "outputs": [],
   "source": [
    "aggregateDB.subset_db(db_IO, otherData['sigma'].index.levels[0]) # Keep data on relevant sectors"
   ]
  },
  {
   "cell_type": "markdown",
   "id": "175fa014-28b5-481a-85d8-b55ec9dff4f3",
   "metadata": {},
   "source": [
    "Initialize module with IO database as input:"
   ]
  },
  {
   "cell_type": "code",
   "execution_count": 6,
   "id": "1510c05f-de5b-4bd3-b553-73e661d8a640",
   "metadata": {},
   "outputs": [],
   "source": [
    "T = CGE_Trade.SimpleArmington(name = module, glob = glob, s_kwargs = {'db': db_IO},  kwargs = {'sfor_ndom': otherData['sigma'].index})"
   ]
  },
  {
   "cell_type": "markdown",
   "id": "1d2b37df-b988-43d0-9aff-981d545a6b34",
   "metadata": {},
   "source": [
    "Initialize, write, and solve:"
   ]
  },
  {
   "cell_type": "code",
   "execution_count": 7,
   "id": "d52e89a3-9fc6-4f48-8ed2-9b8dbfe7ec66",
   "metadata": {},
   "outputs": [],
   "source": [
    "T.compile(initDB=True);\n",
    "T.s.setstate('C')\n",
    "T.write();\n",
    "m = T.run(exportTo = d['work'],ws=ws) # solve the \"model\"."
   ]
  },
  {
   "cell_type": "markdown",
   "id": "01862288-65d0-4f4a-be9f-9d8dc1e39fd4",
   "metadata": {},
   "source": [
    "Export:"
   ]
  },
  {
   "cell_type": "code",
   "execution_count": 8,
   "id": "e62c2344-fa37-444d-89a1-18ff775ff9ce",
   "metadata": {},
   "outputs": [],
   "source": [
    "T.s.db = m.out_db"
   ]
  },
  {
   "cell_type": "code",
   "execution_count": 9,
   "id": "a40b51d5-099f-49a2-bb4f-65b51a95f192",
   "metadata": {},
   "outputs": [
    {
     "data": {
      "image/png": "[encoded data removed]",
      "text/plain": [
       "<Figure size 576x396 with 2 Axes>"
      ]
     },
     "metadata": {},
     "output_type": "display_data"
    }
   ],
   "source": [
    "T.get('qD').xs('F',level='s').unstack('n').plot(subplots=True);"
   ]
  },
  {
   "cell_type": "markdown",
   "id": "109ffb78-d77e-446c-905a-2cdaf98febd1",
   "metadata": {},
   "source": [
    "Export:"
   ]
  },
  {
   "cell_type": "code",
   "execution_count": 10,
   "id": "51800cb4-e18a-4260-a45f-5082462e2c77",
   "metadata": {},
   "outputs": [],
   "source": [
    "with open(os.path.join(d['data'], T.name), \"wb\") as file:\n",
    "    pickle.dump(T,file)"
   ]
  }
 ],
 "metadata": {
  "kernelspec": {
   "display_name": "Python 3 (ipykernel)",
   "language": "python",
   "name": "python3"
  },
  "language_info": {
   "codemirror_mode": {
    "name": "ipython",
    "version": 3
   },
   "file_extension": ".py",
   "mimetype": "text/x-python",
   "name": "python",
   "nbconvert_exporter": "python",
   "pygments_lexer": "ipython3",
   "version": "3.9.7"
  }
 },
 "nbformat": 4,
 "nbformat_minor": 5
}
