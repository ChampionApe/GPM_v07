{
 "cells": [
  {
   "cell_type": "code",
   "execution_count": 1,
   "id": "c90703ba-e145-4e74-a8ea-3081d431fcc1",
   "metadata": {},
   "outputs": [
    {
     "name": "stdout",
     "output_type": "stream",
     "text": [
      "The file _gams_py_gdb0.gdx is still active and was not deleted.\n",
      "The file _gams_py_gdb3.gdx is still active and was not deleted.\n"
     ]
    }
   ],
   "source": [
    "clean_up = True\n",
    "%run stdPackages.ipynb"
   ]
  },
  {
   "cell_type": "code",
   "execution_count": 2,
   "id": "de19fd05-a670-4a74-810c-49e03cce3fe2",
   "metadata": {},
   "outputs": [],
   "source": [
    "ws = gams.GamsWorkspace(working_directory=d['work']) # specify where you want to run the GAMS models from (here the repository referred to in d['work'])"
   ]
  },
  {
   "cell_type": "markdown",
   "id": "dec6d0db-f59f-4e4f-993b-42a094ee8de1",
   "metadata": {},
   "source": [
    "## Load standard settings:"
   ]
  },
  {
   "cell_type": "code",
   "execution_count": 3,
   "id": "09f58895-147d-43d7-9f6b-3913d7926076",
   "metadata": {},
   "outputs": [],
   "source": [
    "name = 'B' # name of model\n",
    "db_IO = GpyDB(f\"{d['data']}\\\\IO_{name}\") # load IO database named IO_name\n",
    "with open(f\"{d['data']}\\\\glob_{name}\",\"rb\") as file: # load global settings anmed glob_name\n",
    "    glob=pickle.load(file)"
   ]
  },
  {
   "cell_type": "markdown",
   "id": "673d36f0-cd2b-42d1-bc2f-3ccd861eb798",
   "metadata": {},
   "source": [
    "Inventory modelling only requires specifying: (1) What sectors are inventory sectors, (2) the speed of adjustment for the inventory (modelled as AR1 proces without stochasticity)."
   ]
  },
  {
   "cell_type": "code",
   "execution_count": 4,
   "id": "83f86e1b-670c-4a13-a3d3-29b5baa43651",
   "metadata": {},
   "outputs": [],
   "source": [
    "itory = pd.Index(['itory'], name = 's')\n",
    "aggregateDB.subset_db(db_IO, itory) # goes through all symbols in db_IO and only keep the elements that are in the inventory set\n",
    "I = CGE_Production.Inventory(name = name, db_IO = db_IO, itory=itory, glob = glob) # initialize module from nesting tree and global settings\n",
    "I.compile(); \n",
    "I.write();\n",
    "m = I.run(exportTo=d['work'], ws =ws)"
   ]
  },
  {
   "cell_type": "markdown",
   "id": "ac5122fb-de77-4819-a5e8-330cfa71b8c6",
   "metadata": {},
   "source": [
    "Export:"
   ]
  },
  {
   "cell_type": "code",
   "execution_count": 5,
   "id": "c9717244-b250-48d1-a022-f9f3e149faf4",
   "metadata": {},
   "outputs": [],
   "source": [
    "I.s.db = m.out_db"
   ]
  },
  {
   "cell_type": "markdown",
   "id": "2acfabc6-1892-4aea-8f12-95e60d583883",
   "metadata": {},
   "source": [
    "Export:"
   ]
  },
  {
   "cell_type": "code",
   "execution_count": 6,
   "id": "e34b9849-ccdc-47c4-9ed5-6baabc99c2d9",
   "metadata": {},
   "outputs": [],
   "source": [
    "with open(os.path.join(d['data'], I.name), \"wb\") as file:\n",
    "    pickle.dump(I,file)"
   ]
  }
 ],
 "metadata": {
  "kernelspec": {
   "display_name": "Python 3 (ipykernel)",
   "language": "python",
   "name": "python3"
  },
  "language_info": {
   "codemirror_mode": {
    "name": "ipython",
    "version": 3
   },
   "file_extension": ".py",
   "mimetype": "text/x-python",
   "name": "python",
   "nbconvert_exporter": "python",
   "pygments_lexer": "ipython3",
   "version": "3.9.7"
  }
 },
 "nbformat": 4,
 "nbformat_minor": 5
}
