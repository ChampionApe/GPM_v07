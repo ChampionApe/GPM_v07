{
 "cells": [
  {
   "cell_type": "code",
   "execution_count": 1,
   "id": "456665d4-2d4c-41ae-9a7c-d2c29575c05b",
   "metadata": {},
   "outputs": [],
   "source": [
    "clean_up = True\n",
    "%run StdPackages.ipynb"
   ]
  },
  {
   "cell_type": "markdown",
   "id": "1fec7d09-6877-4269-a2a3-94d009ff8e9a",
   "metadata": {},
   "source": [
    "## Example A:\n",
    "1. Define global settings that are applied across all modules.\n",
    "2. Define production structure using nesting trees.\n",
    "3. Define production module from steps 1-2.\n",
    "4. Initialize and compile:\n",
    "    1. Initialize variables (if needed),\n",
    "    2. Initialize groups definition (add to ```self.s.groups```)\n",
    "    3. Define argument defining blocks of equations.\n",
    "    4. Specify settings for different states of the model"
   ]
  },
  {
   "cell_type": "markdown",
   "id": "fb2e9ab2-50b3-4762-bc73-36503bb66557",
   "metadata": {},
   "source": [
    "*1. Globals:*"
   ]
  },
  {
   "cell_type": "markdown",
   "id": "8ffef0ac-6ef9-4981-a1f2-4cd8d6ac0eff",
   "metadata": {},
   "source": [
    "Start by defining the global settings: In this section, we draw on the ```SmallOpen``` type. Beyond some global parameters (e.g. interest rate, long run growth rate, etc.), this includes some definitions for time:"
   ]
  },
  {
   "cell_type": "code",
   "execution_count": 2,
   "id": "3690d88c-ac44-48b8-a109-80d057e7a5ac",
   "metadata": {},
   "outputs": [],
   "source": [
    "glob = CGE_globals.SmallOpen(kwargs_vals = {'t': range(1,5)})"
   ]
  },
  {
   "cell_type": "markdown",
   "id": "e3b7591a-71c5-4347-b402-b2697f97879d",
   "metadata": {},
   "source": [
    "*2. Nesting tree:*"
   ]
  },
  {
   "cell_type": "markdown",
   "id": "a33a0729-6931-4fe9-ac9f-999032d173f3",
   "metadata": {},
   "source": [
    "We consider a two-sector model $(s1,s2)$ that produces three goods $(a,b,c)$ using inputs $(K,L,M)$. Sector 1 produces  a single using a nested CES, sector 2 produces two outputs using a nested CES/MNL type function."
   ]
  },
  {
   "cell_type": "code",
   "execution_count": 3,
   "id": "420b37bf-beda-4bb9-b3d1-adb579b6aa8b",
   "metadata": {},
   "outputs": [],
   "source": [
    "name = 'A'\n",
    "data_str = os.path.join(d['data'],'Production_A.xlsx')\n",
    "read_trees = {'Tree1': {'f':'CES'}, 'Tree2': {'f': 'MNL_out'}} # Keys refer sheet, f refers to type.\n",
    "Tree = nestingTree.aggTree_from_data(data_str, read_trees = read_trees, name = name)() # apply call function."
   ]
  },
  {
   "cell_type": "markdown",
   "id": "9fd1c44c-3528-4f78-bfc3-5e68f6de6966",
   "metadata": {},
   "source": [
    "*3. Initialize production module from tree*"
   ]
  },
  {
   "cell_type": "code",
   "execution_count": 4,
   "id": "60810159-07f0-4f40-aa63-8602e7056a4b",
   "metadata": {},
   "outputs": [],
   "source": [
    "P = CGE_Production.Production(tree = Tree, glob = glob)"
   ]
  },
  {
   "cell_type": "markdown",
   "id": "266d056d-8dde-4336-84d8-f6a415749c31",
   "metadata": {},
   "source": [
    "#### 4: Initialize and compile"
   ]
  },
  {
   "cell_type": "markdown",
   "id": "830e91ff-a78e-417a-8ab9-b9f0ca5c4cde",
   "metadata": {},
   "source": [
    "The method ```self.compile(order=None, initDB=False)``` is defined for all ```GmsPython``` instances, of which ```CGE_Production.Production``` is a specific instance. This method works through two/three steps:\n",
    "1. ```self.compile_groups:``` Updates the settings ```self.s``` specification of groups from the method ```self.groups()```. A standard method for ```self.groups``` collects ```self.groups()``` for all the modules in ```self.m``` that has such a method defined. The production module has a specific method implemented here. Next, the groups are compiled using ```self.s.Compile.run()```.\n",
    "2. ```self.compile_states:``` Collects and sorts 'args' for the model stored in ```self.s['args']``` specificied by the method ```self.args()```. A standard method ```self.args``` collects ```self.args()``` for all the modules in ```self.m``` that has such a method defined. The production module has a specific method implemented here.\n",
    "3. ```self.initDB```: If ```initDB=True``` a method that supplies simple initial values for relevant variables are applied. A standard method is applied that collects ```self.initDB``` methods from the modules in ```self.m```. "
   ]
  },
  {
   "cell_type": "code",
   "execution_count": 5,
   "id": "b72fbde1-eca9-4880-af4b-59444f84464f",
   "metadata": {},
   "outputs": [],
   "source": [
    "P.compile(initDB=True)"
   ]
  },
  {
   "cell_type": "markdown",
   "id": "0b75b906-67d2-4e1c-ab1a-87a48f706160",
   "metadata": {
    "tags": []
   },
   "source": [
    "#### 5: Write"
   ]
  },
  {
   "cell_type": "code",
   "execution_count": 6,
   "id": "4fa93b1e-ae08-4f08-9d3e-f84795cdaebd",
   "metadata": {},
   "outputs": [],
   "source": [
    "P.write();"
   ]
  },
  {
   "cell_type": "markdown",
   "id": "ebbea236-9561-4320-bc62-902815b30b36",
   "metadata": {},
   "source": [
    "#### 6: Run\n",
    "We can set up and run the model in two ways: By specifying a model and parsing it, or asking for it to be initialized and run. We specify which repo to write the data to"
   ]
  },
  {
   "cell_type": "code",
   "execution_count": 7,
   "id": "5d8d096e-0be9-45bb-9725-f41c8ae0a7e0",
   "metadata": {},
   "outputs": [],
   "source": [
    "# 1: set up model and pass it:\n",
    "# model = GmsPy.GmsModel(ws=d['work'], **{'cns': 'CONOPT4'})\n",
    "# P.run(model=model, exportTo = d['work'])\n",
    "# 2: This performs the same in one:\n",
    "model = P.run(exportTo = d['work'], ws=d['work'],**{'cns': 'CONOPT4'})"
   ]
  }
 ],
 "metadata": {
  "kernelspec": {
   "display_name": "Python 3 (ipykernel)",
   "language": "python",
   "name": "python3"
  },
  "language_info": {
   "codemirror_mode": {
    "name": "ipython",
    "version": 3
   },
   "file_extension": ".py",
   "mimetype": "text/x-python",
   "name": "python",
   "nbconvert_exporter": "python",
   "pygments_lexer": "ipython3",
   "version": "3.9.7"
  }
 },
 "nbformat": 4,
 "nbformat_minor": 5
}
