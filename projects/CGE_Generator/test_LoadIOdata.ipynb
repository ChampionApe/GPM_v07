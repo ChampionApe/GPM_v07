{
 "cells": [
  {
   "cell_type": "code",
   "execution_count": 1,
   "id": "c072906f-bb8c-4238-95fe-577e29bfceed",
   "metadata": {},
   "outputs": [
    {
     "name": "stdout",
     "output_type": "stream",
     "text": [
      "The file_gams_py_gdb0.gdx is still active and was not deleted.\n",
      "The file_gams_py_gdb1.gdx is still active and was not deleted.\n"
     ]
    }
   ],
   "source": [
    "clean_up = True\n",
    "%run stdPackages.ipynb\n",
    "from pyDatabases import gpyDB, gpyDB_wheels\n",
    "rc_pd = gpyDB.adj.rc_pd"
   ]
  },
  {
   "cell_type": "markdown",
   "id": "7c49fc9a-2ac8-439f-a520-983dfef2346c",
   "metadata": {},
   "source": [
    "The notebook shows how we can load IO data in a smart way that automatically defines mappings. The IO data automatically include a number of different sheets; this split helps us to identify some of the subsets.\n",
    "* ```p```: Includes all domestic production sectors. We may want to split this up further, e.g. if some sector has to be paid specific attention.\n",
    "* ```f```: foreign sector/trade. \n",
    "* ```i```: Investment.\n",
    "* ```h```: households.\n",
    "* ```g```: government."
   ]
  },
  {
   "cell_type": "code",
   "execution_count": 2,
   "id": "5f379c0f-b746-4591-ae4a-df4470a00e97",
   "metadata": {},
   "outputs": [],
   "source": [
    "name = 'A'\n",
    "glob = CGE_globals.SmallOpen(kwargs_vals = {'t': range(1,11)})\n",
    "db = gpyDB.GpyDB(**{'name': f\"IO_{name}\", 'alias': pd.MultiIndex.from_tuples([('n','nn'),('n','nnn')])})\n",
    "wv = gpyDB_wheels.read.simpleLoad(f\"{d['data']}\\\\A_IOv.xlsx\")\n",
    "wp = gpyDB_wheels.read.simpleLoad(f\"{d['data']}\\\\A_IOp.xlsx\")\n",
    "dur= gpyDB_wheels.read.SeriesDB_from_wb(f\"{d['data']}\\\\A_dur.xlsx\", {'variables': ['pV'], 'maps': ['pM']})"
   ]
  },
  {
   "cell_type": "markdown",
   "id": "75eb93df-eace-493c-a15e-e06de7835a18",
   "metadata": {},
   "source": [
    "*Load in all modules and define sectors + outputs if ```vS``` is in the data:*"
   ]
  },
  {
   "cell_type": "code",
   "execution_count": 3,
   "id": "76d8c97a-afcc-4101-9d49-e20b90908fa9",
   "metadata": {},
   "outputs": [],
   "source": [
    "ms = ['p','f','i','h','g']\n",
    "dbs_v = {m: gpyDB_wheels.read.SeriesDB_from_wb(wv, {'variables': m}) for m in ms}\n",
    "dbs_p = {m: gpyDB_wheels.read.SeriesDB_from_wb(wp, {'variables': m}) for m in ('n','i')}\n",
    "for m in ms:\n",
    "    if 'vS' in dbs_v[m].database:\n",
    "        dbs_v[m][f\"s_{m}\"] = dbs_v[m]['vS'].index.levels[0]\n",
    "        dbs_v[m][f\"nOut_{m}\"] = dbs_v[m]['vS'].index.levels[-1]\n",
    "dbs_v['f']['nOut_f'] = dbs_v['f'].get('vD').index.levels[-1].difference(dbs_v['p'].get('nOut_p'))\n",
    "dbs_v['f']['s_f'] = dbs_v['f'].get('vD').index.levels[0].difference(dbs_v['p'].get('s_p'))\n",
    "dbs_v['p']['dur_p'] = dur.get('qD').index\n",
    "dbs_v['p']['inv_p'] = dbs_v['i']['nOut_i'].vals"
   ]
  },
  {
   "cell_type": "markdown",
   "id": "fb49fa6a-92e5-4442-b39c-d39f72b7a1a3",
   "metadata": {},
   "source": [
    "Merge databases as IO data:"
   ]
  },
  {
   "cell_type": "code",
   "execution_count": 4,
   "id": "e8283ffe-073b-4dc1-ad56-6de6c3ed00df",
   "metadata": {},
   "outputs": [],
   "source": [
    "[gpyDB_wheels.robust.robust_merge_dbs(db, db_i, priority='second') for db_i in dbs_v.values()];\n",
    "[gpyDB_wheels.robust.robust_merge_dbs(db, db_i, priority='second') for db_i in dbs_p.values()];\n",
    "[gpyDB_wheels.robust.robust_merge_dbs(db, db_i, priority='second') for db_i in [dur]];"
   ]
  },
  {
   "cell_type": "markdown",
   "id": "361c34a2-5786-4a92-b45c-1dd6edbbdb8c",
   "metadata": {},
   "source": [
    "Compute prices on durables from the steady state expression:\n",
    "$$\\begin{align}\n",
    "    p_K = p_I\\left(\\dfrac{R}{1+\\pi}-(1-\\delta)\\right),\n",
    "\\end{align}$$\n",
    "where $K$ is the durable, $I$ the corresponding investment variable, $R$ is the long run interest rate factor, $\\pi$ is the long run inflation rate, and $\\delta$ is the depreciation rate."
   ]
  },
  {
   "cell_type": "code",
   "execution_count": 5,
   "id": "76f02ee6-827e-457e-8c46-ebf8d04485a1",
   "metadata": {},
   "outputs": [],
   "source": [
    "pDur = pyDatabases.adjMultiIndex.applyMult( db.get('p').rename_axis(index={'n':'nn'}), db.get('dur2inv')).droplevel('nn') * (glob.db['R_LR'].vals / (1+glob.db['infl_LR'].vals) +db.get('rDepr')-1)\n",
    "db['qD'] = (db.get('vD') / db.get('p')).fillna(dur.get('qD'))\n",
    "db['qS'] = db['vS'].vals / db.get('p')"
   ]
  },
  {
   "cell_type": "markdown",
   "id": "b40fe48b-6ee9-4a40-beeb-fda1ea88967f",
   "metadata": {},
   "source": [
    "*TEMPORARY FIX, BECAUSE WE DO NOT HAVE A GOVERNMENT SECTOR YET: Set the pS/pD prices from the equilibrium prices*"
   ]
  },
  {
   "cell_type": "code",
   "execution_count": 6,
   "id": "5c1e7dab-8045-45fe-8b95-bb28e66a18e7",
   "metadata": {},
   "outputs": [],
   "source": [
    "db['pD'] = pDur.combine_first(pyDatabases.adjMultiIndex.bc(db.get('p'), db['qD']))\n",
    "db['pS'] = pyDatabases.adjMultiIndex.bc(db.get('p'), db['qS'].vals)"
   ]
  },
  {
   "cell_type": "markdown",
   "id": "0d88225d-e78a-4566-ac5d-c076430ad8ea",
   "metadata": {},
   "source": [
    "Broadcast all variables using the time index (repeat variables for all $t$):"
   ]
  },
  {
   "cell_type": "code",
   "execution_count": 7,
   "id": "7a98e3a6-0eb7-401e-a48f-115cd12d90d7",
   "metadata": {},
   "outputs": [],
   "source": [
    "def addT(symbol, t):\n",
    "    return pyDatabases.adjMultiIndex.bc(symbol, t).reorder_levels(['t']+symbol.index.names if 't' not in symbol.index.names else symbol.index.names)\n",
    "[db.__setitem__(k, addT(db.get(k), glob.db['t'].vals)) for k in db.getTypes(['variable','scalar_variable'])];"
   ]
  },
  {
   "cell_type": "markdown",
   "id": "fd796355-bf1e-4744-835a-32bb709d64aa",
   "metadata": {},
   "source": [
    "To do: \n",
    "* Currently, we use the default options for the ```global``` settings. This includes long run growth rate, inflation rate, interest rate etc. This should be modified somewhere (potentially just in the JupyterLab code).\n",
    "* Taxes are not implemented yet; the implication is that we do not have a good way of implementing prices after taxes (pD). Thus, currently, we simply use the equilibrium prices as basis for this."
   ]
  },
  {
   "cell_type": "code",
   "execution_count": 8,
   "id": "61ac65ec-75ff-48bc-9595-e38bce505456",
   "metadata": {},
   "outputs": [],
   "source": [
    "pyDatabases.gpyDB_wheels.aggregateDB.readSets(db)"
   ]
  },
  {
   "cell_type": "code",
   "execution_count": 9,
   "id": "487fe8bb-37b8-48fc-87c9-2e9eab0f6451",
   "metadata": {},
   "outputs": [],
   "source": [
    "db.export(repo = d['data'])\n",
    "with open(f\"{d['data']}\\\\glob_{name}\", \"wb\") as file:\n",
    "    pickle.dump(glob,file)"
   ]
  }
 ],
 "metadata": {
  "kernelspec": {
   "display_name": "Python 3 (ipykernel)",
   "language": "python",
   "name": "python3"
  },
  "language_info": {
   "codemirror_mode": {
    "name": "ipython",
    "version": 3
   },
   "file_extension": ".py",
   "mimetype": "text/x-python",
   "name": "python",
   "nbconvert_exporter": "python",
   "pygments_lexer": "ipython3",
   "version": "3.9.7"
  }
 },
 "nbformat": 4,
 "nbformat_minor": 5
}
