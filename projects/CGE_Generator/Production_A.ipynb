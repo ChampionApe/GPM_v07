{
 "cells": [
  {
   "cell_type": "code",
   "execution_count": 1,
   "id": "a544302e-3029-4392-b6bc-9b96f6c04e3b",
   "metadata": {},
   "outputs": [],
   "source": [
    "clean_up = True\n",
    "%run stdPackages.ipynb"
   ]
  },
  {
   "cell_type": "markdown",
   "id": "175ccb98-bc6f-4d58-9cf1-19b8ab0973cc",
   "metadata": {},
   "source": [
    "*Set up example:*"
   ]
  },
  {
   "cell_type": "code",
   "execution_count": 2,
   "id": "7dca0a57-fbfd-4d30-8f14-c6285cc34805",
   "metadata": {},
   "outputs": [],
   "source": [
    "glob = CGE_globals.SmallOpen(kwargs_vals = {'t': range(1,5)})\n",
    "name = 'A'\n",
    "data_str = os.path.join(d['data'],'Production_A.xlsx')\n",
    "read_trees = {'Tree1': {'f':'CES'}, 'Tree2': {'f': 'MNL_out'}} # Keys refer sheet, f refers to type.\n",
    "Tree = nestingTree.aggTree_from_data(data_str, read_trees = read_trees, name = name)() # apply call function.\n",
    "P = CGE_Production.Production(tree = Tree, glob = glob)"
   ]
  },
  {
   "cell_type": "markdown",
   "id": "0de1ab0e-bfd6-4f2f-819b-47087f597042",
   "metadata": {
    "tags": []
   },
   "source": [
    "# ```Production```"
   ]
  },
  {
   "cell_type": "markdown",
   "id": "ce3e0893-0ac7-4f49-8506-7606bc205cbe",
   "metadata": {},
   "source": [
    "The ```Production``` module uses nesting trees to build a dynamic, multi-sector model with nested production functions. The fundamental setup is the following:"
   ]
  },
  {
   "cell_type": "markdown",
   "id": "510d7c42-8ba2-4461-bcb0-e71dca0167f3",
   "metadata": {},
   "source": [
    "* The model consists of three fundamental sets that most equations/variables are defined over: (1) $n$ the set of goods in the economy, (2) $s$ the set of sectors, $t$ the time index. We generally use $nn$, $nnn$, $ss$ etc. as aliases for the fundamental sets.\n",
    "* We refer to quantities, prices, and values as $(qS, qD, pS, pD, vS, vD)$. The $S$ indicates that the variable is on the supply of a good, the $D$ that it is a demand variable. Intermediate goods are also referred to as $qD[t,s,n]$.\n",
    "* Market clearing ensures that the sum of supply equals the sum of supply, for a subset of goods $n$. As goods can be demanded/supplied by more than one sector, the market clearing condition is:\n",
    "$$\\begin{align}\n",
    "    \\sum_{s\\in d\\_qS[s,n]} qS[t,s,n] = \\sum_{s\\in d\\_qD[s,n]} qD[t,s,n],\n",
    "\\end{align}$$\n",
    "where $d\\_qS$ and $d\\_qD$ are dummies identifying which sectors are active for the relevant good."
   ]
  },
  {
   "cell_type": "markdown",
   "id": "db0ac5c9-6cbd-4de8-8427-1fab2bf757bc",
   "metadata": {},
   "source": [
    "## 1. Baseline mode:\n",
    "In the baseline mode, the endogenous/exogenous variables of the module are:\n",
    "* Input prices are taken as given. A subset ```input_A[s,n]``` identifies the inputs of the nesting tree (created automatically from the nesting trees). So, $pD[s,n]$ are exogenous for inputs (in partial equilibrium).\n",
    "* Input quantities, intermediate quantities and prices, are all endogenous in the model. The subset ```int_A[s,n]``` identifies intermediate goods. So, $qD[s,n]$ are generally endogenous, so are $pD[s,n]$ for intermediate goods.\n",
    "* Output prices are endogenous while output quantities are exogenous. The subset ```output[s,n]``` identifies outputs. The implicit assumption of the production module is that the entire tree exhibits constant returns to scale (linear homogeneity). So, we can only identify the price $pS[s,n]$, but not the quantity $qS[s,n]$ (in partial equilibrium)."
   ]
  },
  {
   "cell_type": "markdown",
   "id": "69d30a2c-21ed-45e6-b0d2-bed08681f464",
   "metadata": {},
   "source": [
    "In the example we loaded here, the inputs, intermediate goods, and outputs are given by:"
   ]
  },
  {
   "cell_type": "code",
   "execution_count": 3,
   "id": "e18088fc-4f42-44f3-8fe6-c115c8d0156a",
   "metadata": {},
   "outputs": [
    {
     "data": {
      "text/plain": [
       "MultiIndex([('s2', 'M'),\n",
       "            ('s1', 'L'),\n",
       "            ('s2', 'L'),\n",
       "            ('s1', 'K'),\n",
       "            ('s2', 'K'),\n",
       "            ('s1', 'M')],\n",
       "           names=['s', 'n'])"
      ]
     },
     "execution_count": 3,
     "metadata": {},
     "output_type": "execute_result"
    }
   ],
   "source": [
    "P.get('input') # inputs"
   ]
  },
  {
   "cell_type": "code",
   "execution_count": 4,
   "id": "d692fee5-c6be-4368-95e9-aae073ec7d5c",
   "metadata": {},
   "outputs": [
    {
     "data": {
      "text/plain": [
       "MultiIndex([('s1', 'KL'),\n",
       "            ('s2',  'Y')],\n",
       "           names=['s', 'n'])"
      ]
     },
     "execution_count": 4,
     "metadata": {},
     "output_type": "execute_result"
    }
   ],
   "source": [
    "P.get('int') # intermediate goods"
   ]
  },
  {
   "cell_type": "code",
   "execution_count": 5,
   "id": "b43652aa-7e1a-464d-a8e9-382a8bf850ad",
   "metadata": {},
   "outputs": [
    {
     "data": {
      "text/plain": [
       "MultiIndex([('s2', 'c'),\n",
       "            ('s1', 'a'),\n",
       "            ('s2', 'b')],\n",
       "           names=['s', 'n'])"
      ]
     },
     "execution_count": 5,
     "metadata": {},
     "output_type": "execute_result"
    }
   ],
   "source": [
    "P.get('output') # outputs"
   ]
  },
  {
   "cell_type": "markdown",
   "id": "c5b3dd85-77d2-4784-9568-fd24b5f8acef",
   "metadata": {},
   "source": [
    "We can test running the model (we store a checkpoint to re-run from):"
   ]
  },
  {
   "cell_type": "code",
   "execution_count": 6,
   "id": "8975c898-13dc-441d-a494-1974ff6c6eac",
   "metadata": {},
   "outputs": [
    {
     "data": {
      "text/plain": [
       "<GmsPy.GmsModel at 0x2277b179100>"
      ]
     },
     "execution_count": 6,
     "metadata": {},
     "output_type": "execute_result"
    }
   ],
   "source": [
    "P.compile(initDB=True)\n",
    "P.write();\n",
    "model = GmsPy.GmsModel(ws=d['work'], **{'cns':'CONOPT4'})\n",
    "checkpoint = model.ws.add_checkpoint()\n",
    "P.run(model=model, options_run = {'checkpoint': checkpoint})"
   ]
  },
  {
   "cell_type": "markdown",
   "id": "87829ec4-7561-46bb-88b2-bfcb183f9df9",
   "metadata": {},
   "source": [
    "### A small detour: Sneaky solve"
   ]
  },
  {
   "cell_type": "markdown",
   "id": "9ee716f0-5c8b-42c4-ac32-70fc7df7e874",
   "metadata": {},
   "source": [
    "Let's test the sneaky solve method: Change some of the exogenous variables / parameters in a loop. Extract some of the endogenous variables in the loop:"
   ]
  },
  {
   "cell_type": "markdown",
   "id": "66a5172d-60b6-4d16-a692-49591d4a5e82",
   "metadata": {},
   "source": [
    "*Inputs for sneaky solve:*"
   ]
  },
  {
   "cell_type": "code",
   "execution_count": 7,
   "id": "0ace5a4a-6e91-4502-8fc4-06175e14f142",
   "metadata": {},
   "outputs": [],
   "source": [
    "# args: db0, dbT, name\n",
    "db0 = model.out_db\n",
    "dbT = pyDatabases.GpyDB()\n",
    "dbT['g_LR'] = 0.05\n",
    "dbT['sigma'] = db0['sigma'].vals*2\n",
    "name = 'test'\n",
    "# kwargs with (mostly) default values used:\n",
    "n = 10\n",
    "extractSol = {'qD': P.get('int'), 'pD': ('and', [P.get('int'), P.get('t0')])}\n",
    "db_name = 'grids'\n",
    "loop = 'l1'\n",
    "gridtype = 'linear'\n",
    "phi= 1\n",
    "checkDiff = True\n",
    "error = 1e-11"
   ]
  },
  {
   "cell_type": "markdown",
   "id": "a50910d8-84a9-4459-adaa-183a2f2c5571",
   "metadata": {},
   "source": [
    "Get database with grids:"
   ]
  },
  {
   "cell_type": "code",
   "execution_count": 8,
   "id": "de90a6dc-3fee-4088-b37a-9038f2be6939",
   "metadata": {},
   "outputs": [],
   "source": [
    "db = auxFunctions.gridDB(db0,dbT,name, n = 10, extractSol = extractSol, db_name = db_name, loop=loop, gridtype=gridtype, phi = phi, checkDiff = checkDiff, error = error)"
   ]
  },
  {
   "cell_type": "markdown",
   "id": "70fdfd53-71ac-46af-b297-1ca2c58dc29b",
   "metadata": {},
   "source": [
    "The database automatically creates:\n",
    "* Loop index with name ```loop``` (pandas index, here 'l1').\n",
    "* Subsets that reflect overlap in domains for variables/parameters in ```db0``` and ```dbT```. These are named ```x_name_ss``` with x being the symbol name and name referring to the database name. The 'ss' indicates that it is the relevant subset.\n",
    "* Parameters with grids between symbols in ```db0``` and ```dbT```. These are named ```x_name```. The grids are of the type ```gridtype``` with ```n``` nodes.\n",
    "* Solution parameters used to store solution when looping. These are named ```sol_x_name``` with x being the symbol name and name referring to the database name."
   ]
  },
  {
   "cell_type": "markdown",
   "id": "e109517e-40a8-4c57-b057-41523f842697",
   "metadata": {},
   "source": [
    "We then solve sneakily by:\n",
    "1. Declare and load new symbols from the gridDB:"
   ]
  },
  {
   "cell_type": "markdown",
   "id": "940630c4-0cf8-474e-a102-63712fcedd59",
   "metadata": {},
   "source": [
    "*1. Declare and load new variables:*"
   ]
  },
  {
   "cell_type": "code",
   "execution_count": 20,
   "id": "71ff510b-6898-458c-b2f7-2791ccd72ecf",
   "metadata": {},
   "outputs": [],
   "source": [
    "from pyDatabases import OrdSet"
   ]
  },
  {
   "cell_type": "code",
   "execution_count": 34,
   "id": "c54fcf15-d16d-43d1-8148-9d4561a6c9c7",
   "metadata": {},
   "outputs": [
    {
     "name": "stdout",
     "output_type": "stream",
     "text": [
      "sets\n",
      "\tl1\n",
      ";\n",
      "\n",
      "\n",
      "sets\n",
      "\tsigma_test_ss[s,n]\n",
      "\tg_LR_test_ss[l1]\n",
      ";\n",
      "\n",
      "$GDXIN %grids%\n",
      "$onMulti\n",
      "$load l1\n",
      "$load sigma_test_ss\n",
      "$load g_LR_test_ss\n",
      "$GDXIN\n",
      "$offMulti;\n",
      "\n",
      "parameters\n",
      "\tsigma_test[l1,s,n]\n",
      "\tg_LR_test[l1]\n",
      "\tsol_qD_test[l1,t,s,n]\n",
      "\tsol_pD_test[l1,t,s,n]\n",
      ";\n",
      "\n",
      "$GDXIN %grids%\n",
      "$onMulti\n",
      "$load sigma_test\n",
      "$load g_LR_test\n",
      "$GDXIN\n",
      "$offMulti;\n",
      "\n",
      "\n"
     ]
    }
   ],
   "source": [
    "print(GmsWrite.writeDeclare(db, exceptions = OrdSet(db0.symbols), exceptions_load = OrdSet(db0.symbols)+OrdSet([k for k in db.symbols if k.startswith('sol_')]), gdx = f\"\"\"%{db.name}%\"\"\"))"
   ]
  },
  {
   "cell_type": "code",
   "execution_count": 13,
   "id": "02e5a347-15cd-407b-968b-1ac0335fa8c9",
   "metadata": {},
   "outputs": [
    {
     "data": {
      "text/plain": [
       "{'alias_': <pyDatabases.gpyDB._database.gpy at 0x2277b200c10>,\n",
       " 'alias_set': <pyDatabases.gpyDB._database.gpy at 0x2277b200610>,\n",
       " 'alias_map2': <pyDatabases.gpyDB._database.gpy at 0x2277b200670>,\n",
       " 'l1': <pyDatabases.gpyDB._database.gpy at 0x22767589070>,\n",
       " 'sigma_test_ss': <pyDatabases.gpyDB._database.gpy at 0x2277b20d820>,\n",
       " 'sigma_test': <pyDatabases.gpyDB._database.gpy at 0x2277b2005b0>,\n",
       " 'g_LR_test_ss': <pyDatabases.gpyDB._database.gpy at 0x2277b2006d0>,\n",
       " 'g_LR_test': <pyDatabases.gpyDB._database.gpy at 0x22767552ac0>,\n",
       " 'sol_qD_test': <pyDatabases.gpyDB._database.gpy at 0x2277b0aea60>,\n",
       " 'sol_pD_test': <pyDatabases.gpyDB._database.gpy at 0x22767589550>,\n",
       " 's': <pyDatabases.gpyDB._database.gpy at 0x2276757b070>,\n",
       " 'n': <pyDatabases.gpyDB._database.gpy at 0x2277b20d160>,\n",
       " 't': <pyDatabases.gpyDB._database.gpy at 0x2277b20d3d0>}"
      ]
     },
     "execution_count": 13,
     "metadata": {},
     "output_type": "execute_result"
    }
   ],
   "source": [
    "db.symbols"
   ]
  },
  {
   "cell_type": "markdown",
   "id": "22db8e45-99d6-494b-8ea8-66733fe327a2",
   "metadata": {},
   "source": []
  },
  {
   "cell_type": "markdown",
   "id": "27d2296e-245a-4826-9218-414017d39f69",
   "metadata": {},
   "source": [
    "## 2. Calibration mode:\n",
    "The module includes a calibration mode, where the settings for exogenous/endogenous groups are flipped:\n",
    "* All inputs and intermediate quantities in the baseline year ```(t0[t])``` are exogenous.\n",
    "* To identify the quantities, we endogenize their counterparts in share parameters ```mu[s,n,nn]```.\n",
    "* We add a couple of small adjustments if (they are added automatically):\n",
    "    * Multiple output sectors: Only one output price is kept endogenous. All other output prices are exogenous. \n",
    "    * If there are nesting trees that are \"scale preserving\" (sum of quantity of branches = quantity of corresponding knot), there is an implicit quantity restriction that does not allow us to endogenize all share parameters in that nest. "
   ]
  },
  {
   "cell_type": "markdown",
   "id": "b4faecb7-d75b-4985-bbc9-ac12d798f652",
   "metadata": {},
   "source": [
    "We switch to the calibration state and re-run:"
   ]
  },
  {
   "cell_type": "code",
   "execution_count": 16,
   "id": "914217f3-f5b2-4a65-a339-93d05e29d644",
   "metadata": {},
   "outputs": [],
   "source": [
    "model.run(run=P.s.writeSolveState('C'), options_add = {'checkpoint': checkpoint})"
   ]
  },
  {
   "cell_type": "markdown",
   "id": "022fc99b-5f83-4076-8921-367a5312f46d",
   "metadata": {},
   "source": [
    "## 3. Adding durables:"
   ]
  },
  {
   "cell_type": "markdown",
   "id": "12921404-6328-4d2b-a532-8364e6e06e8e",
   "metadata": {},
   "source": [
    "When we add durable goods to the production module, the standard is to use the quadratic installation costs approach. Let's start by presenting the math as if there were a single durable $(K)$ and a corresponding investment variable ($I$). The quadratic installation cost module adds the equations:\n",
    "$$\\begin{align}\n",
    "    K_{t+1} &= K_t(1-\\delta)+I_t, \\qquad \\forall t<T \\tag{LOM} \\\\\n",
    "    p_{K,t} &= R_t\\left(P_{I,t-1}+\\dfrac{\\partial \\Psi_{t-1}}{\\partial I_{t-1}}\\right)+\\dfrac{\\partial \\Psi_t}{\\partial K_t}-(1-\\delta)\\left(P_{I,t}+\\dfrac{\\partial \\Psi_t}{\\partial I_t}\\right), \\qquad \\forall t_0<t<T \\tag{Q}\\\\ \n",
    "    K_T &= (1+\\rho_K)K_{T-1} \\tag{TVC}\\\\ \n",
    "    \\Psi_t &= \\dfrac{\\phi_1}{2}\\left(\\dfrac{I_t}{K_t}-\\phi_2\\right)^2, \\qquad \\forall t<T, \\tag{InstCosts}\n",
    "\\end{align}$$\n",
    "where $\\Phi$ is the installation cost function. With quadratic installation costs as here, price equation becomes:\n",
    "$$\\begin{align}\n",
    "p_{K,t} &= R_t\\left(P_{I,t-1}+\\phi_1\\left(\\dfrac{I_{t-1}}{K_{t-1}}-\\phi_2\\right)\\right)+\\dfrac{\\phi_1}{2}\\left(\\dfrac{I_t}{K_t}-\\phi_2\\right)^2-\\phi_1\\dfrac{I_t}{K_t}\\left(\\dfrac{I_t}{K_t}-\\phi_2\\right)-(1-\\delta)\\left(P_{I,t}+\\phi_1\\left(\\dfrac{I_t}{K_t}-\\phi_2\\right)\\right), \\qquad \\forall t_0<t<T \n",
    "\\end{align}$$"
   ]
  },
  {
   "cell_type": "markdown",
   "id": "72f9acbf-2625-4ed1-b386-bc084bafad4d",
   "metadata": {},
   "source": [
    "In the production module, we take the price on the investment goods ($I_t$) as given (in partial equilibrium). Note that the causality of the durables module is a bit complicated:\n",
    "* For the very first period, we take the level $K_{t_0}$ as given. The standard nested production function setup includes an equation for the demand of $K_{t_0}$, however. Causally, this equation is used to identify the price $p^K_{t_0}$.\n",
    "* For the other periods $t_0<t<T$, the quantity of $K_t$ is determined from the standard nested production function equations.\n",
    "* The investment levels $I_t$ are determined from the law of motion (LOM).\n",
    "* The quantity $K_T$ is determined from the (TVC).\n",
    "* The prices on capital for $t_0<t<T$ are determined by the (Q) equation.\n",
    "* The level of installation costs $\\Psi$ from (InstCosts)."
   ]
  },
  {
   "cell_type": "markdown",
   "id": "24dcea7f-99c2-44bd-ab8f-e0e7bee07e28",
   "metadata": {},
   "source": [
    "So, when we add these equations, we do the following:\n",
    "* Adjust the subsets in the standard nested production tree: \n",
    "    * All durables are removed from the subset ```input```.\n",
    "    * The corresponding investment goods are added to the subset ```input``` instead.\n",
    "* Define new groups of variables:\n",
    "    * Exogenous variables: Investment parameters $(\\phi_1,\\phi_2,\\delta)$, interest rate $R_t$ (in partial equilibrium), and initial level of durables $(K_{t_0})$. Note that by adding investment variables to the set ```input```, they are automatically included in the correct endogenous/exogenous groups. \n",
    "    * Endogenous: Quantity of durables for $t>t_0$ and prices for $t<T$. Also, the level of installation costs per unit of output is computed.\n",
    "\n",
    "Note that when the model is calibrated, the share parameter on $K_{t_0}$ is still endogenized, while the corresponding investment variable $I_{t_0}$ is made exogenous. **NB: If the durable good enters in a scale preserving input nest, the share parameter might have been chosen to be exogenous. This might be an issue in calibration mode.**"
   ]
  },
  {
   "cell_type": "markdown",
   "id": "a42f96cb-723e-49bc-a50b-61a447e02059",
   "metadata": {},
   "source": [
    "### Specifying durables"
   ]
  },
  {
   "cell_type": "markdown",
   "id": "16673626-5112-4edc-bb57-3d23381c31dc",
   "metadata": {},
   "source": [
    "We add durables by specifying what subset of variables are durables, and include a mapping from durable to the relevant investment good. For instance:"
   ]
  },
  {
   "cell_type": "code",
   "execution_count": 6,
   "id": "2b2ef023-3387-4679-b19b-1e7416e1630a",
   "metadata": {},
   "outputs": [
    {
     "data": {
      "text/plain": [
       "MultiIndex([('s2', 'K'),\n",
       "            ('s1', 'K')],\n",
       "           names=['s', 'n'])"
      ]
     },
     "execution_count": 6,
     "metadata": {},
     "output_type": "execute_result"
    }
   ],
   "source": [
    "dur = pyDatabases.adj.rc_pd( P.get('input'), pd.Index(['K'],name='n')) # durables are all inputs called 'K'\n",
    "dur"
   ]
  },
  {
   "cell_type": "code",
   "execution_count": 7,
   "id": "04d24b3d-57b1-4ba2-8f3b-0423a77bd12f",
   "metadata": {},
   "outputs": [
    {
     "data": {
      "text/plain": [
       "MultiIndex([('s2', 'K', 'I_K'),\n",
       "            ('s1', 'K', 'I_K')],\n",
       "           names=['s', 'n', 'nn'])"
      ]
     },
     "execution_count": 7,
     "metadata": {},
     "output_type": "execute_result"
    }
   ],
   "source": [
    "dur2inv = pd.MultiIndex.from_frame(dur.to_frame(index=False).assign(nn=lambda x: 'I_'+x.n)) # Simply specify the relevant investment goods as 'I_'+ name of the durable\n",
    "dur2inv"
   ]
  },
  {
   "cell_type": "markdown",
   "id": "0bbee23a-dd88-4a5f-ba97-e9e237eedecf",
   "metadata": {},
   "source": [
    "We add the durables using the ```self.addDurables``` method:"
   ]
  },
  {
   "cell_type": "code",
   "execution_count": 8,
   "id": "8a192c46-cd85-4a7d-9421-0e3dc143c658",
   "metadata": {},
   "outputs": [],
   "source": [
    "P.addDurables(dur=dur, dur2inv = dur2inv)"
   ]
  },
  {
   "cell_type": "markdown",
   "id": "248a0f15-2483-4406-bf58-e2b379c05249",
   "metadata": {},
   "source": [
    "Solve the model:"
   ]
  },
  {
   "cell_type": "code",
   "execution_count": 9,
   "id": "060ecb60-8ebe-4d87-9f84-3a4f49d814c6",
   "metadata": {},
   "outputs": [],
   "source": [
    "P.compile(initDB=True)\n",
    "P.write();\n",
    "model = P.run(exportTo = d['work'], ws=d['work'],**{'cns': 'CONOPT4'})"
   ]
  }
 ],
 "metadata": {
  "kernelspec": {
   "display_name": "Python 3 (ipykernel)",
   "language": "python",
   "name": "python3"
  },
  "language_info": {
   "codemirror_mode": {
    "name": "ipython",
    "version": 3
   },
   "file_extension": ".py",
   "mimetype": "text/x-python",
   "name": "python",
   "nbconvert_exporter": "python",
   "pygments_lexer": "ipython3",
   "version": "3.9.7"
  }
 },
 "nbformat": 4,
 "nbformat_minor": 5
}
