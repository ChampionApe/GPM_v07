{
 "cells": [
  {
   "cell_type": "code",
   "execution_count": 1,
   "id": "0e12f854-11e1-463d-a43a-6be50369688b",
   "metadata": {},
   "outputs": [],
   "source": [
    "clean_up = True\n",
    "%run stdPackages.ipynb"
   ]
  },
  {
   "cell_type": "markdown",
   "id": "e34baee4-5aae-4ba4-8b69-17c093f439cf",
   "metadata": {
    "tags": []
   },
   "source": [
    "# Data arrangement, model B"
   ]
  },
  {
   "cell_type": "markdown",
   "id": "a4865f6b-2acc-4a29-a4de-b29787dd7c2c",
   "metadata": {},
   "source": [
    "Similar to model A, but without durables: So, we load the same data, but don't add that some of them are durables"
   ]
  },
  {
   "cell_type": "code",
   "execution_count": 2,
   "id": "6d8e727f-9c8b-4b95-a644-7c310928cb91",
   "metadata": {},
   "outputs": [],
   "source": [
    "name = 'B' # name of model\n",
    "error = 1e-10 # tolerance when testing IO balance\n",
    "IOv = f\"{d['data']}\\\\B\\\\IOv.xlsx\" # file with value balance\n",
    "IOp = None\n",
    "dur = f\"{d['data']}\\\\B\\\\dur.xlsx\" # file with durable specifciation \n",
    "glob = CGE_globals.SmallOpen(kwargs_vals = {'t': range(2018,2051)}) # global settings used throughout; interest rates, long run growth rates, time index etc."
   ]
  },
  {
   "cell_type": "markdown",
   "id": "f47e3ed5-0b20-439f-bf11-f00dda09a74c",
   "metadata": {},
   "source": [
    "### 1: Load IO data on values"
   ]
  },
  {
   "cell_type": "markdown",
   "id": "115704c7-9b62-4446-9351-b05de5b8e137",
   "metadata": {},
   "source": [
    "*Given the settings above, the following goes through some standard steps in setting up balanced IO data. Go to step 4 to add new exogenous data to the standard data*"
   ]
  },
  {
   "cell_type": "code",
   "execution_count": 3,
   "id": "1fd67227-acbe-46f3-946c-67556abc553f",
   "metadata": {},
   "outputs": [],
   "source": [
    "ms = ['p','f','i','h','g']\n",
    "db = GpyDB(**{'name': f\"IO_{name}\", 'alias': pd.MultiIndex.from_tuples([('n','nn'),('n','nnn'), ('s','ss')])})"
   ]
  },
  {
   "cell_type": "code",
   "execution_count": 4,
   "id": "fa3e8692-af82-4a79-9869-c67eee64b3d4",
   "metadata": {},
   "outputs": [],
   "source": [
    "wv = read.simpleLoad(IOv)\n",
    "dbs_v = {m: read.SeriesDB_from_wb(wv, {'variables': m}) for m in ms}\n",
    "for m in ms:\n",
    "    if 'vS' in dbs_v[m].database:\n",
    "        dbs_v[m][f\"s_{m}\"] = dbs_v[m]['vS'].index.levels[0]\n",
    "        dbs_v[m][f\"nOut_{m}\"] = dbs_v[m]['vS'].index.levels[-1]\n",
    "dbs_v['f']['nOut_f'] = dbs_v['f'].get('vD').index.levels[-1].difference(dbs_v['p'].get('nOut_p'))\n",
    "dbs_v['f']['s_f'] = dbs_v['f'].get('vD').index.levels[0].difference(dbs_v['p'].get('s_p'))"
   ]
  },
  {
   "cell_type": "markdown",
   "id": "75cd0352-cbcb-486b-99ed-645fb3880287",
   "metadata": {},
   "source": [
    "*Merge:*"
   ]
  },
  {
   "cell_type": "code",
   "execution_count": 5,
   "id": "fb472b96-92b9-494e-a233-7d70f76ec744",
   "metadata": {},
   "outputs": [],
   "source": [
    "[robust.robust_merge_dbs(db, db_i, priority='second') for db_i in dbs_v.values()];\n",
    "robust.robust_merge_dbs(db, read.SeriesDB_from_wb(wv, {'maps': ['maps']})) # add mappings\n",
    "db['nEqui'] = db['vS'].index.levels[-1]\n",
    "db['d_qS']  = db['vS'].index\n",
    "db['d_qD'] = adj.rc_pd(db['vD'], db['nEqui']).index\n",
    "db['d_qSEqui'] = adj.rc_pd(db['d_qS'].vals, ('not', db['nOut_h']))\n",
    "db['d_pEqui']  = db['nOut_h']"
   ]
  },
  {
   "cell_type": "markdown",
   "id": "4bed881a-b7c6-4727-ac5e-0a3f52237b2f",
   "metadata": {},
   "source": [
    "*Check value balances for domestic production sectors + investment sectors:*"
   ]
  },
  {
   "cell_type": "code",
   "execution_count": 9,
   "id": "04c7bf90-29f0-416c-b07e-b873916428b4",
   "metadata": {},
   "outputs": [],
   "source": [
    "vS = adj.rc_pd(db.get('vS'), db.get('s_p')).groupby('s').sum()\n",
    "vD_p = adj.rc_pd(db.get('vD'), db.get('s_p')).groupby('s').sum()\n",
    "vDiff = vS-vD_p-adj.rc_pd(db.get('TotalTax'), db.get('s_p'))\n",
    "assert abs(vDiff).max()<error, f\"The IO value data is not balanced check. The difference (vS-vD-TotalTax): {vDiff[abs(vDiff)>error]}\""
   ]
  },
  {
   "cell_type": "markdown",
   "id": "702a916d-63bb-431c-beeb-01707d19704c",
   "metadata": {},
   "source": [
    "### 2: IO data on prices"
   ]
  },
  {
   "cell_type": "markdown",
   "id": "be607d8c-86a7-4a41-9cf2-caa374c82997",
   "metadata": {},
   "source": [
    "If no price data is added, add default price of 1 on all goods:"
   ]
  },
  {
   "cell_type": "code",
   "execution_count": 10,
   "id": "f976ea90-a13e-4666-8718-c4df642e64b8",
   "metadata": {},
   "outputs": [],
   "source": [
    "if IOp is None:\n",
    "    db['p'] = pd.Series(1, index = db.get('vS').index.levels[-1].union(db.get('nOut_f')))\n",
    "else:\n",
    "    db['p'] = read.SeriesDB_from_wb(IOp, {'variables': ['pEqui']})['p']"
   ]
  },
  {
   "cell_type": "markdown",
   "id": "a86b3c5a-0e91-4332-badc-64bea70a9353",
   "metadata": {},
   "source": [
    "Note: We do not automatically load any other prices than the equilibrium ones (i.e. regulation is not automatically loaded here)."
   ]
  },
  {
   "cell_type": "markdown",
   "id": "39b5ba43-7fc1-4d5c-b50b-eeac318d3cfc",
   "metadata": {},
   "source": [
    "### 3: Load data on durables"
   ]
  },
  {
   "cell_type": "markdown",
   "id": "285be6e6-4b97-462c-9a5a-4e7695f96396",
   "metadata": {},
   "source": [
    "Load durables data: If a sheet name ends with 'V' the sheet loads variables, if 'M' it loads mappings."
   ]
  },
  {
   "cell_type": "code",
   "execution_count": 11,
   "id": "625ab848-ded3-41ad-b775-e95241719690",
   "metadata": {},
   "outputs": [],
   "source": [
    "wdur = read.simpleLoad(dur)\n",
    "db_dur = read.SeriesDB_from_wb(wdur, {'variables': [sheet.title for sheet in wdur._sheets if sheet.title.endswith('V')],\n",
    "                                      'maps': [sheet.title for sheet in wdur._sheets if sheet.title.endswith('M')]})"
   ]
  },
  {
   "cell_type": "markdown",
   "id": "a509039d-34b1-491d-8e3c-1f6e340ef564",
   "metadata": {},
   "source": [
    "No durables for the production module:"
   ]
  },
  {
   "cell_type": "code",
   "execution_count": 14,
   "id": "e56cbc45-f559-4819-bd43-8aa35eed6b96",
   "metadata": {},
   "outputs": [],
   "source": [
    "# db['dur_p'] = db_dur.get('dur2inv').droplevel('nn').unique() # what variables are durables (K)\n",
    "# db['inv_p'] = db_dur.get('dur2inv').droplevel('n').unique().rename({'nn':'n'}) # what variables are investment goods (I)\n",
    "robust.robust_merge_dbs(db, db_dur, priority='second') # add to main database"
   ]
  },
  {
   "cell_type": "markdown",
   "id": "c4814626-5e09-4794-b913-34e990b20ba7",
   "metadata": {},
   "source": [
    "Back out quantities:"
   ]
  },
  {
   "cell_type": "code",
   "execution_count": 16,
   "id": "d6a0c41a-ff38-406c-a89b-6943dea08654",
   "metadata": {},
   "outputs": [],
   "source": [
    "db['qD'] = (adj.rc_pd(db.get('vD'), ('not', db.get('svngs')))) / db.get('p') \n",
    "db['qS'] = db['vS'].vals / db.get('p')"
   ]
  },
  {
   "cell_type": "markdown",
   "id": "c2d954f1-32ce-45d7-a4da-4c7f5446e97f",
   "metadata": {},
   "source": [
    "Broadcast all variables using the time index (repeat variables for all $t$):"
   ]
  },
  {
   "cell_type": "code",
   "execution_count": 17,
   "id": "3a51fefd-514c-46eb-9ba0-030cc7024a68",
   "metadata": {},
   "outputs": [],
   "source": [
    "def addT(symbol, t):\n",
    "    return adjMultiIndex.bc(symbol, t).reorder_levels(['t']+symbol.index.names if 't' not in symbol.index.names else symbol.index.names)\n",
    "[db.__setitem__(k, addT(db.get(k), glob.db['t'].vals)) for k in db.getTypes(['variable','scalar_variable'])];"
   ]
  },
  {
   "cell_type": "markdown",
   "id": "96aadc8a-70ef-4dc3-a270-edfca049871f",
   "metadata": {},
   "source": [
    "Initialize the prices ```pD``` and ```pS``` at the equilibrium prices:"
   ]
  },
  {
   "cell_type": "code",
   "execution_count": 18,
   "id": "ae037cad-124c-43e4-ba39-241fb648e5fc",
   "metadata": {},
   "outputs": [],
   "source": [
    "db['pD'] = adjMultiIndex.bc(db.get('p'), db.get('qD')).reorder_levels(db['qD'].domains).rename('pD') # span the pure prices 'p' to fit entire qD domain\n",
    "db['pS'] = adjMultiIndex.bc(adj.rc_pd(db.get('p'), ('not', db.get('nOut_f'))), db.get('qS')).reorder_levels(db['qS'].domains).rename('qS') # span 'p' to fit domain of qS. Drop prices on foreign goods."
   ]
  },
  {
   "cell_type": "markdown",
   "id": "ad09f914-86e6-4f9a-bbb0-985d3244345a",
   "metadata": {},
   "source": [
    "### 4: Add other data"
   ]
  },
  {
   "cell_type": "markdown",
   "id": "fb308d97-32ab-4613-98d7-c1001dd1eff0",
   "metadata": {},
   "source": [
    "Load interest rates:"
   ]
  },
  {
   "cell_type": "code",
   "execution_count": 13,
   "id": "b8ca7f72-60d6-42e9-a141-6ad54c72518c",
   "metadata": {},
   "outputs": [],
   "source": [
    "# robust.robust_merge_dbs(db, read.SeriesDB_from_wb(IOp, {'variables': ['interestRates']}), 'second')"
   ]
  },
  {
   "cell_type": "markdown",
   "id": "61036e32-d5dd-462f-94f4-c1a346218914",
   "metadata": {},
   "source": [
    "## Export:"
   ]
  },
  {
   "cell_type": "code",
   "execution_count": 19,
   "id": "e96b6e32-e947-4c68-932f-8a0c9965257f",
   "metadata": {},
   "outputs": [],
   "source": [
    "aggregateDB.readSets(db) # read sets from the symbols in data"
   ]
  },
  {
   "cell_type": "code",
   "execution_count": 20,
   "id": "fc3e9a3f-3625-4055-b712-313036889b2b",
   "metadata": {},
   "outputs": [],
   "source": [
    "db.export(repo = d['data'])\n",
    "with open(f\"{d['data']}\\\\glob_{name}\", \"wb\") as file:\n",
    "    pickle.dump(glob,file)"
   ]
  }
 ],
 "metadata": {
  "kernelspec": {
   "display_name": "Python 3 (ipykernel)",
   "language": "python",
   "name": "python3"
  },
  "language_info": {
   "codemirror_mode": {
    "name": "ipython",
    "version": 3
   },
   "file_extension": ".py",
   "mimetype": "text/x-python",
   "name": "python",
   "nbconvert_exporter": "python",
   "pygments_lexer": "ipython3",
   "version": "3.9.7"
  }
 },
 "nbformat": 4,
 "nbformat_minor": 5
}
