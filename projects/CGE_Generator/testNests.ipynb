{
 "cells": [
  {
   "cell_type": "code",
   "execution_count": 1,
   "id": "91ad553d-0207-4f18-97ca-d39bfe98f7b9",
   "metadata": {},
   "outputs": [],
   "source": [
    "clean_up = True\n",
    "%run stdPackages.ipynb"
   ]
  },
  {
   "cell_type": "markdown",
   "id": "4da38c05-f02b-43ff-ad0e-ef40a5084b0a",
   "metadata": {},
   "source": [
    "Load all types of nesting trees from:"
   ]
  },
  {
   "cell_type": "code",
   "execution_count": 2,
   "id": "0a30d28a-1aed-48bd-af36-4ebf968e8828",
   "metadata": {},
   "outputs": [],
   "source": [
    "FunnyName_NS = {n+'_input': n for n in ('Y1','Y2')}\n",
    "data_str = os.path.join(d['data'], 'Nestings.xlsx')\n",
    "read_trees = {'CES1': {'CES1': {'f': 'CES'}},\n",
    "              'CES2': {'CES2': {'f':'CES'}},\n",
    "              'CES1_norm': {'CES1': {'f':'CES_norm'}}, \n",
    "              'CES2_norm': {'CES2': {'f':'CES_norm'}},\n",
    "              'CET1': {'CET1': {'f': 'CET'}},\n",
    "              'CET2': {'CET2': {'f': 'CET'}},\n",
    "              'CET1_norm': {'CET1': {'f': 'CET_norm'}},\n",
    "              'CET2_norm': {'CET2': {'f': 'CET_norm'}},\n",
    "              'CES_CET': {'CES1': {'f': 'CES'}, 'CET1': {'f': 'CET'}},\n",
    "              'CES_CET_norm': {'CES1': {'f':'CES'}, 'CET1': {'f':'CET_norm'}},\n",
    "              'CESCET_norm': {'CES1': {'f':'CES_norm'}, 'CET1': {'f': 'CET_norm'}},\n",
    "              'CESCET3': {'CES1': {'f':'CES'}, 'CET3': {'f':'CET'}},\n",
    "              'CESCET3_norm': {'CES1': {'f':'CES_norm'}, 'CET3': {'f':'CET_norm'}},\n",
    "              'FunkyTree': {'FunkyTree_CET': {'f':'CET_norm'}, 'FunkyTree_CES': {'f':'CES_norm'}},\n",
    "              'ExtremeFunk': {'ExtremeF1': {'f': 'CES_norm'}, 'ExtremeF2': {'f':'CET_norm'}},\n",
    "              'FunnyName': {'FunnyNameInp': {'f':'CES_norm'}, 'FunnyNameOut': {'f':'CET_norm'}}}\n",
    "Trees = {k: nestingTree.aggTree_from_data(data_str, read_trees = read_trees[k], name = k)(namespace=FunnyName_NS) for k in read_trees} # init b"
   ]
  },
  {
   "cell_type": "markdown",
   "id": "bacf31a1-77e9-4246-b197-358e0852dcbc",
   "metadata": {},
   "source": [
    "Load global settings:"
   ]
  },
  {
   "cell_type": "code",
   "execution_count": 3,
   "id": "627fe1da-34be-4327-983c-6f0a803fcbe3",
   "metadata": {},
   "outputs": [],
   "source": [
    "glob = CGE_globals.SmallOpen(kwargs_vals = {'t': range(1,3)})"
   ]
  },
  {
   "cell_type": "markdown",
   "id": "71519a98-622d-4011-a8c3-032e4c05f9f8",
   "metadata": {},
   "source": [
    "Initialize production module for each:"
   ]
  },
  {
   "cell_type": "code",
   "execution_count": 4,
   "id": "63e933c3-2e9f-432c-ab1d-89cd85d7a519",
   "metadata": {},
   "outputs": [],
   "source": [
    "ws = gams.GamsWorkspace(working_directory=d['work'])\n",
    "Ps = {k: CGE_Production.Production(tree = Trees[k], glob = glob, ns = {}, s_kwargs = {'ws': ws}) for k in Trees}"
   ]
  },
  {
   "cell_type": "markdown",
   "id": "05d600e9-bc3e-449d-8620-375f6b0f502e",
   "metadata": {
    "tags": []
   },
   "source": [
    "#### Test baseline mode"
   ]
  },
  {
   "cell_type": "markdown",
   "id": "6b7d3e35-36e7-42cc-9841-941ec0ca96f3",
   "metadata": {},
   "source": [
    "*Init states:*"
   ]
  },
  {
   "cell_type": "code",
   "execution_count": 5,
   "id": "c4a15f35-488d-4123-b8dc-8c27fcfe07f7",
   "metadata": {},
   "outputs": [],
   "source": [
    "[P.compile(initDB=True) for P in Ps.values()];"
   ]
  },
  {
   "cell_type": "markdown",
   "id": "0016a1c0-34b9-4b4c-acf1-48e30924557d",
   "metadata": {},
   "source": [
    "*Write text:*"
   ]
  },
  {
   "cell_type": "code",
   "execution_count": 6,
   "id": "313223db-30ff-4491-badc-43600b49d3d1",
   "metadata": {},
   "outputs": [],
   "source": [
    "[P.write() for P in Ps.values()];"
   ]
  },
  {
   "cell_type": "markdown",
   "id": "75cb6549-b46b-4e60-8478-0260c482b805",
   "metadata": {},
   "source": [
    "*Run models (with same workspace):*"
   ]
  },
  {
   "cell_type": "code",
   "execution_count": 7,
   "id": "b06e2336-8168-425e-8337-30cad4e59165",
   "metadata": {},
   "outputs": [],
   "source": [
    "Ms = {k: Ps[k].run(exportTo=d['work'], ws=ws,**{'cns': 'CONOPT4'}) for k in Ps}"
   ]
  },
  {
   "cell_type": "markdown",
   "id": "421a8fde-cda1-44e8-8375-8f868b0272ed",
   "metadata": {
    "tags": []
   },
   "source": [
    "#### Test calibration mode:"
   ]
  },
  {
   "cell_type": "markdown",
   "id": "e2053434-f66e-4255-96aa-bfa2cedea223",
   "metadata": {},
   "source": [
    "*Change state:*"
   ]
  },
  {
   "cell_type": "code",
   "execution_count": 8,
   "id": "e53a8df2-d8da-4a16-9410-25aa589cb548",
   "metadata": {},
   "outputs": [],
   "source": [
    "[setattr(p.s,'state','C') for p in Ps.values()];"
   ]
  },
  {
   "cell_type": "markdown",
   "id": "5230ef8d-ebd5-4bb3-9b16-4a71e71ccc54",
   "metadata": {},
   "source": [
    "*Update database to baseline solution:*"
   ]
  },
  {
   "cell_type": "code",
   "execution_count": 9,
   "id": "8a9a5615-b617-4e89-b079-3b2eae4dca7a",
   "metadata": {},
   "outputs": [],
   "source": [
    "[setattr(Ps[k].s,'db',Ms[k].out_db) for k in Ps];"
   ]
  },
  {
   "cell_type": "markdown",
   "id": "06a8a219-b17a-4e2b-a1e9-2be7981295cc",
   "metadata": {},
   "source": [
    "*Write:*"
   ]
  },
  {
   "cell_type": "code",
   "execution_count": 10,
   "id": "32ce2f16-92e0-43ee-b86b-9b005c32edac",
   "metadata": {},
   "outputs": [],
   "source": [
    "[P.write() for P in Ps.values()];"
   ]
  },
  {
   "cell_type": "markdown",
   "id": "f757ce90-b807-455f-8a97-b5877ac805f7",
   "metadata": {},
   "source": [
    "*Re-run:*"
   ]
  },
  {
   "cell_type": "code",
   "execution_count": null,
   "id": "e20202b0-6091-4ff3-80d7-92603cd8ea59",
   "metadata": {},
   "outputs": [],
   "source": [
    "Ms = {k: Ps[k].run(exportTo=d['work'], ws=ws,**{'cns': 'CONOPT4'}) for k in Ps}"
   ]
  },
  {
   "cell_type": "markdown",
   "id": "d7b52689-ebe5-4140-8920-8f06f3c3f350",
   "metadata": {
    "tags": []
   },
   "source": [
    "## Test version 2"
   ]
  },
  {
   "cell_type": "markdown",
   "id": "7edfc439-acbe-46ed-ad56-4ab7b87f3190",
   "metadata": {},
   "source": [
    "Load all types of nesting trees from:"
   ]
  },
  {
   "cell_type": "code",
   "execution_count": 2,
   "id": "d9903ab2-48ae-4c8e-8ef1-c4a5e52f7c1b",
   "metadata": {},
   "outputs": [],
   "source": [
    "FunnyName_NS = {n+'_input': n for n in ('Y1','Y2')}\n",
    "data_str = os.path.join(d['data'], 'Nestings.xlsx')\n",
    "read_trees = {'CES1': {'CES1': {'f': 'CES'}},\n",
    "              'CES2': {'CES2': {'f':'CES'}},\n",
    "              'CES1_norm': {'CES1': {'f':'CES_norm'}}, \n",
    "              'CES2_norm': {'CES2': {'f':'CES_norm'}},\n",
    "              'CET1': {'CET1': {'f': 'CET'}},\n",
    "              'CET2': {'CET2': {'f': 'CET'}},\n",
    "              'CET1_norm': {'CET1': {'f': 'CET_norm'}},\n",
    "              'CET2_norm': {'CET2': {'f': 'CET_norm'}},\n",
    "              'CES_CET': {'CES1': {'f': 'CES'}, 'CET1': {'f': 'CET'}},\n",
    "              'CES_CET_norm': {'CES1': {'f':'CES'}, 'CET1': {'f':'CET_norm'}},\n",
    "              'CESCET_norm': {'CES1': {'f':'CES_norm'}, 'CET1': {'f': 'CET_norm'}},\n",
    "              'CESCET3': {'CES1': {'f':'CES'}, 'CET3': {'f':'CET'}},\n",
    "              'CESCET3_norm': {'CES1': {'f':'CES_norm'}, 'CET3': {'f':'CET_norm'}},\n",
    "              'FunkyTree': {'FunkyTree_CET': {'f':'CET_norm'}, 'FunkyTree_CES': {'f':'CES_norm'}},\n",
    "              'ExtremeFunk': {'ExtremeF1': {'f': 'CES_norm'}, 'ExtremeF2': {'f':'CET_norm'}},\n",
    "              'FunnyName': {'FunnyNameInp': {'f':'CES_norm'}, 'FunnyNameOut': {'f':'CET_norm'}}}\n",
    "Trees = {k: nestingTree.aggTree_from_data(data_str, read_trees = read_trees[k], name = k)(namespace=FunnyName_NS) for k in read_trees} # init b"
   ]
  },
  {
   "cell_type": "markdown",
   "id": "91ed67d9-4d77-4216-8638-87bfba05e07d",
   "metadata": {},
   "source": [
    "Load global settings:"
   ]
  },
  {
   "cell_type": "code",
   "execution_count": 3,
   "id": "9ba635ae-beec-40f9-8bf4-7ed6e41fcedc",
   "metadata": {},
   "outputs": [],
   "source": [
    "glob = CGE_globals.SmallOpen(kwargs_vals = {'t': range(1,3)})"
   ]
  },
  {
   "cell_type": "markdown",
   "id": "23612ee4-3d98-4fb5-89ea-01c67d67ed37",
   "metadata": {},
   "source": [
    "Initialize production module for each:"
   ]
  },
  {
   "cell_type": "code",
   "execution_count": 4,
   "id": "04285576-132f-4ecd-8894-e18ac579e736",
   "metadata": {},
   "outputs": [],
   "source": [
    "ws = gams.GamsWorkspace(working_directory=d['work'])\n",
    "Ps = {k: CGE_Production.Production_ExoMu(tree = Trees[k], glob = glob, ns = {}, s_kwargs = {'ws': ws}) for k in Trees}"
   ]
  },
  {
   "cell_type": "markdown",
   "id": "f35ec4e9-d5dd-4cfa-ae25-0c6065f474c7",
   "metadata": {},
   "source": [
    "In this second version, we only endogenize share parameters for variables in the IO data and not for intermediate goods. We can still run into some problems with linear dependence if we include scale preserving nests. We handle this as follows:\n",
    "* For all inputs, identify a single element in $\\mu[s,n,nn]$ to be endogenized. This fits with the corresponding number of demand components that are fixed $qD$.\n",
    "* If an entire input-type nest is scale preserving, this, however, will not work. So, we pick out a single element $qD$ to keep endogenous and corresponding $mu$ to be exogenous. This is done as follows:\n",
    "    * Remove all ```endo_mu``` combinations from ```map_spinp```. If a combination (s,n) is entirely removed, this means that there is an issue.\n",
    "    * If there is"
   ]
  },
  {
   "cell_type": "markdown",
   "id": "2b80834d-fe95-4c1e-8c53-b1a0ac8e4490",
   "metadata": {},
   "source": [
    "If a sector has more than one output, we similarly have to adjust some share parameters in the calibration mode. Specifically, because we have price equations on the form $p[s,n] = (1+markup[s])(pS[s,n]+tauS[s,n]+ic[s,n])$, where all the prices $p[s,n]$ are fixed - and we only have one markup to adjust - we need technology parameters to ensure that the corret price levels $pS[s,n]$ can be acieved. This is done by unfixing one share parameter for each output from a sector except for one. Specifically we do the following:\n",
    "* Identify all share parameters where $n$ is an output.\n",
    "* Remove all elements in ```endo_mu``` to make sure that we are not unfixing an already endogenous parameter.\n",
    "* Select one share parameter for all outputs except one."
   ]
  },
  {
   "cell_type": "markdown",
   "id": "99144a07-451d-48ae-acbd-574263941795",
   "metadata": {
    "tags": []
   },
   "source": [
    "#### Test baseline mode"
   ]
  },
  {
   "cell_type": "markdown",
   "id": "2a7a714f-f359-4e33-87da-f76cf20cc929",
   "metadata": {},
   "source": [
    "*Init states:*"
   ]
  },
  {
   "cell_type": "code",
   "execution_count": 5,
   "id": "7aa149e4-b4ab-4941-be63-8e06c839eb11",
   "metadata": {},
   "outputs": [],
   "source": [
    "[P.compile(initDB=True) for P in Ps.values()];"
   ]
  },
  {
   "cell_type": "markdown",
   "id": "851b2183-ae1b-494b-a272-fd62d5a71ea8",
   "metadata": {},
   "source": [
    "*Write text:*"
   ]
  },
  {
   "cell_type": "code",
   "execution_count": 6,
   "id": "f875f20f-bd12-4cf8-a6f3-fd9aa34e019c",
   "metadata": {},
   "outputs": [],
   "source": [
    "[P.write() for P in Ps.values()];"
   ]
  },
  {
   "cell_type": "markdown",
   "id": "5ed59f96-0d0f-45d5-aa9a-f7473730e0fe",
   "metadata": {},
   "source": [
    "*Run models (with same workspace):*"
   ]
  },
  {
   "cell_type": "code",
   "execution_count": 7,
   "id": "b4d7b110-de84-421c-89b0-11d1181a89ec",
   "metadata": {},
   "outputs": [],
   "source": [
    "Ms = {k: Ps[k].run(exportTo=d['work'], ws=ws,**{'cns': 'CONOPT4'}) for k in Ps}"
   ]
  },
  {
   "cell_type": "markdown",
   "id": "b4ccf51b-54fd-445e-af33-21ac36ab5362",
   "metadata": {},
   "source": [
    "*Change state:*"
   ]
  },
  {
   "cell_type": "code",
   "execution_count": 8,
   "id": "e0659540-c089-4b15-b949-3d286d39f6ba",
   "metadata": {},
   "outputs": [],
   "source": [
    "[setattr(p.s,'state','C') for p in Ps.values()];"
   ]
  },
  {
   "cell_type": "markdown",
   "id": "2703fbd0-9be5-45eb-aa41-6c7e81f9979e",
   "metadata": {},
   "source": [
    "*Update database to baseline solution:*"
   ]
  },
  {
   "cell_type": "code",
   "execution_count": 9,
   "id": "30d1e282-cd45-4e69-89a0-9dd829787ddb",
   "metadata": {},
   "outputs": [],
   "source": [
    "[setattr(Ps[k].s,'db',Ms[k].out_db) for k in Ps];"
   ]
  },
  {
   "cell_type": "markdown",
   "id": "b567d504-f528-41aa-9cf4-18c585e0b313",
   "metadata": {},
   "source": [
    "*Write:*"
   ]
  },
  {
   "cell_type": "code",
   "execution_count": 10,
   "id": "c964bf9b-8cc7-4a1c-98f9-eb48fcba1ce2",
   "metadata": {},
   "outputs": [],
   "source": [
    "[P.write() for P in Ps.values()];"
   ]
  },
  {
   "cell_type": "markdown",
   "id": "634f1a02-f318-4264-90d9-10fecce8eb00",
   "metadata": {},
   "source": [
    "*Re-run:*"
   ]
  },
  {
   "cell_type": "markdown",
   "id": "a245826a-384f-4d81-84c6-217d4447f6f7",
   "metadata": {},
   "source": [
    "### Calibration subsets:"
   ]
  },
  {
   "cell_type": "markdown",
   "id": "c2e60ec2-9274-4318-87a0-139f00080a4d",
   "metadata": {},
   "source": [
    "From an inputs side, suggest all the $\\mu$'s that could be endogenized:\n",
    "1. All the elements in ```map``` where [s,nn] are inputs can be endogenized. However, only one combination (s,n,nn) should be endogenized.\n",
    "2. Next, we identify the (s,n) combinations that can be trouble: These are the scale preserving input nests, where all branches are inputs. We can identify them by: \n",
    "     1. selecting the entire ```map_spinp``` mapping, \n",
    "     2. extracting the endogenous elements, and \n",
    "     3. checking if any (s,n) combinations are left out.\n",
    "3. Next, for sectors with multiple outputs, we need to adjust share parameters on the output side as well. Specifically, for each sector, we need to endogenize i-1 share parameters where i is the number of outputs from the sector. \n",
    "4. Given the three, we need to choose:\n",
    "    * For each (s, nn) in ```endo_mu_all``` suggest one combination (s,n,nn) that is to be endogenous. Call this ```endo_mu```. If possible, this combination should not include elements from ```out_mu```, because these might be needed to ensure that ```endo_mu_out``` can be selected. However, for some tree types, this has to be done (see the tree-type ```CET1``` below).\n",
    "    * For each (s,n) nest that is identified by ```spinp_Trouble```, choose one element (s,n,nn) to be exogenous. If this element was in ```endo_mu```, make sure that the corresponding ```qD[s,nn]``` is included in ```endo_qD```.\n",
    "    * For each sector that produces multiple outputs, suggest $i-1$ share parameters to endogenize. Make sure that these have not been chosen for the other two subset of $\\mu$'s.\n",
    "    \n",
    "Note that this method does guarantee that a solution - in particular if the **entire** nest is scale preserving. The trees ```FunkyTree``` and ```ExtremeFunk``` are examples of this below: There is actually no way to identify share parameters to make these nesting structure work with the current formulation; thus, when running these in calibration mode, they solve to a singular solution."
   ]
  },
  {
   "cell_type": "code",
   "execution_count": 12,
   "id": "f3beaaeb-285e-4cf7-9c9f-a99846544c6f",
   "metadata": {},
   "outputs": [],
   "source": [
    "p = Ps['FunkyTree']\n",
    "self = p"
   ]
  },
  {
   "cell_type": "markdown",
   "id": "874183a0-02ae-4685-a5c5-6b95b386ee66",
   "metadata": {},
   "source": [
    "*1. All elements that can be endogenized:*"
   ]
  },
  {
   "cell_type": "code",
   "execution_count": 13,
   "id": "2650aeab-1218-40ad-86a6-4538327b07b2",
   "metadata": {},
   "outputs": [],
   "source": [
    "endo_mu_all = gpyDB_wheels.adj.rc_pd(self.get('map'), self.get('input').rename(['s','nn']))"
   ]
  },
  {
   "cell_type": "markdown",
   "id": "30db862e-d686-4675-a99b-f2de00361a51",
   "metadata": {},
   "source": [
    "*2. All nests that may be trouble:*"
   ]
  },
  {
   "cell_type": "code",
   "execution_count": 14,
   "id": "fee0155f-a5b7-4a5f-959e-ccbdd74c5685",
   "metadata": {},
   "outputs": [],
   "source": [
    "spinp_Trouble =gpyDB_wheels.adj.rc_pd(self.get('map_spinp'), ('not', self.get('map_spinp').difference(endo_mu_all).droplevel('nn').unique()))"
   ]
  },
  {
   "cell_type": "markdown",
   "id": "85a8a90f-96df-4cc9-b596-3a5b2c5a481c",
   "metadata": {},
   "source": [
    "*3. All potentially endogenizeable share parameters on the output side - the ones with multiple outputs:*"
   ]
  },
  {
   "cell_type": "code",
   "execution_count": 15,
   "id": "2a3fc8da-c8d3-4578-adce-b3c185e58ca3",
   "metadata": {},
   "outputs": [],
   "source": [
    "mu_out = gpyDB_wheels.adj.rc_pd(self.get('map'), self.get('output'))\n",
    "s_numberOut = mu_out.to_frame(index=False).groupby('s').nunique()['n']\n",
    "mout_s =s_numberOut[s_numberOut>1].index\n",
    "mu_out = gpyDB_wheels.adj.rc_pd(mu_out, mout_s)"
   ]
  },
  {
   "cell_type": "markdown",
   "id": "78356fc4-1b27-4352-88f4-50b9f704fd8c",
   "metadata": {},
   "source": [
    "*4. Suggest combination of $\\mu$:*"
   ]
  },
  {
   "cell_type": "code",
   "execution_count": 16,
   "id": "7637a437-de04-490a-acdd-5d3cd1b119bc",
   "metadata": {},
   "outputs": [],
   "source": [
    "endo_mu = self.uniqueFromMap(endo_mu_all.difference(mu_out), gb = ['s','nn']) # suggest endogenous combination that does not include elements  from mu_out\n",
    "x = self.uniqueFromMap(endo_mu_all, gb = ['s','nn']) # suggest endogenous combination from all endo_mu_all\n",
    "endo_mu = endo_mu.union(gpyDB_wheels.adj.rc_pd(x, ('not', endo_mu.droplevel('n')))) # if there is a combination of (s,nn) in x that is missing, add it here. \n",
    "exo_mu  = self.uniqueFromMap(spinp_Trouble, gb = ['s','n']) # suggest making this element exogenous\n",
    "exo_mu_out = self.uniqueFromMap(mu_out.intersection(endo_mu), gb ='s') # suggest NOT making this endogenous. \n",
    "y = self.uniqueFromMap(mu_out, gb = 's') # suggest not making this endogenous either - selecting one for each\n",
    "exo_mu_out = exo_mu_out.union(gpyDB_wheels.adj.rc_pd(y, ('not', exo_mu_out.droplevel('nn')))) # if there is a combination of (s,n) in y that is missing, add it here.\n",
    "endo_mu_out = self.uniqueFromMap(gpyDB_wheels.adj.rc_pd(mu_out, ('not', exo_mu_out.droplevel('nn'))), gb = ['s','n'])"
   ]
  },
  {
   "cell_type": "markdown",
   "id": "0d036463-a6ef-4707-9f3c-efd7af42f563",
   "metadata": {},
   "source": [
    "*5. Check that combination is successfull, i.e. we are able to endogenize the right number of share parameters:*"
   ]
  },
  {
   "cell_type": "code",
   "execution_count": 17,
   "id": "ecdcb31c-c59b-4185-a676-13ecb1a0bf2e",
   "metadata": {},
   "outputs": [
    {
     "data": {
      "text/plain": [
       "True"
      ]
     },
     "execution_count": 17,
     "metadata": {},
     "output_type": "execute_result"
    }
   ],
   "source": [
    "len(endo_mu_out) == sum(mu_out.to_frame(index=False).groupby('s').nunique()['n']-1)"
   ]
  },
  {
   "cell_type": "code",
   "execution_count": null,
   "id": "60f914ed-8ef4-4e38-8f95-91fee89e340d",
   "metadata": {},
   "outputs": [
    {
     "data": {
      "text/plain": [
       "MultiIndex([('s1', 'X1', 'Z1'),\n",
       "            ('s1', 'X2', 'Z2'),\n",
       "            ('s1', 'Y1', 'Z1'),\n",
       "            ('s1', 'Y2', 'Z2')],\n",
       "           names=['s', 'n', 'nn'])"
      ]
     },
     "execution_count": 23,
     "metadata": {},
     "output_type": "execute_result"
    }
   ],
   "source": [
    "endo_mu_out.union(endo_mu).difference(exo_mu)"
   ]
  },
  {
   "cell_type": "code",
   "execution_count": 25,
   "id": "ae861b87-b848-40a1-99a5-3ab852c88e31",
   "metadata": {},
   "outputs": [],
   "source": [
    "Ms = {k: Ps[k].run(exportTo=d['work'], ws=ws,**{'cns': 'CONOPT4'}) for k in Ps}"
   ]
  }
 ],
 "metadata": {
  "kernelspec": {
   "display_name": "Python 3 (ipykernel)",
   "language": "python",
   "name": "python3"
  },
  "language_info": {
   "codemirror_mode": {
    "name": "ipython",
    "version": 3
   },
   "file_extension": ".py",
   "mimetype": "text/x-python",
   "name": "python",
   "nbconvert_exporter": "python",
   "pygments_lexer": "ipython3",
   "version": "3.9.7"
  }
 },
 "nbformat": 4,
 "nbformat_minor": 5
}
