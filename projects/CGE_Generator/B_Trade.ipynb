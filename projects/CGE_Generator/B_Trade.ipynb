{
 "cells": [
  {
   "cell_type": "code",
   "execution_count": 1,
   "id": "73dcbed9-0cef-42b3-8806-bd17e1bf1656",
   "metadata": {},
   "outputs": [
    {
     "name": "stdout",
     "output_type": "stream",
     "text": [
      "The file _gams_py_gdb0.gdx is still active and was not deleted.\n",
      "The file _gams_py_gdb1.gdx is still active and was not deleted.\n",
      "The file _gams_py_gdb3.gdx is still active and was not deleted.\n"
     ]
    }
   ],
   "source": [
    "clean_up = True\n",
    "%run stdPackages.ipynb"
   ]
  },
  {
   "cell_type": "code",
   "execution_count": 2,
   "id": "480f21e9-4b0a-493e-a7de-b9683fa6015c",
   "metadata": {},
   "outputs": [],
   "source": [
    "ws = gams.GamsWorkspace(working_directory=d['work']) # specify where you want to run the GAMS models from (here the repository referred to in d['work'])"
   ]
  },
  {
   "cell_type": "markdown",
   "id": "0034c4df-9b53-4d39-b48a-de8b185edaf8",
   "metadata": {},
   "source": [
    "Load standard settings:"
   ]
  },
  {
   "cell_type": "code",
   "execution_count": 3,
   "id": "6d991cc0-c6db-4538-9fcf-683a002a5fc0",
   "metadata": {},
   "outputs": [],
   "source": [
    "name = 'B' # name of model\n",
    "module = name+'Trade'\n",
    "db_IO = GpyDB(f\"{d['data']}\\\\IO_{name}\") # load IO database named IO_name\n",
    "with open(f\"{d['data']}\\\\glob_{name}\",\"rb\") as file: # load global settings anmed glob_name\n",
    "    glob=pickle.load(file)"
   ]
  },
  {
   "cell_type": "markdown",
   "id": "2fc226c2-d479-47a2-9edd-c2d409cf4dbe",
   "metadata": {},
   "source": [
    "For the simple armington module to work, we need to supply:\n",
    "* IO mapping from domestic to foreign goods: ```dom2for[n,nn]``` (global).\n",
    "* Mapping from foreign sector to domestic goods: ```sfor_ndom[s,n]``` (local).\n",
    "* The subset of foreign goods that are substitutes to the domestic ones in ```sfor\\_ndom[s,n]```: ```nOut_f[n]``` (local). This subset is implied by ```sfor_ndom``` and ```dom2for```.\n",
    "\n",
    "Here, we load data on armington elasticities and use this to back out the mapping ```sfor_ndom```: "
   ]
  },
  {
   "cell_type": "code",
   "execution_count": 4,
   "id": "33145c0d-c464-46e3-a3f8-789bf18098f7",
   "metadata": {},
   "outputs": [],
   "source": [
    "otherData = read.SeriesDB_from_wb(f\"{d['data']}\\\\A_Trade.xlsx\", {'variables': ['vars']})"
   ]
  },
  {
   "cell_type": "markdown",
   "id": "29b26984-1b24-4c38-976a-26df108326a8",
   "metadata": {},
   "source": [
    "Subset the IO data to only keep the sectors that are in this data set:"
   ]
  },
  {
   "cell_type": "code",
   "execution_count": 5,
   "id": "76c35e37-ec52-4391-867c-a9fa0d5d900a",
   "metadata": {},
   "outputs": [],
   "source": [
    "aggregateDB.subset_db(db_IO, otherData['sigma'].index.levels[0]) # Keep data on relevant sectors"
   ]
  },
  {
   "cell_type": "markdown",
   "id": "e0d7b9cb-fc7b-4461-873c-d41f9cfb21ea",
   "metadata": {},
   "source": [
    "Initialize module with IO database as input:"
   ]
  },
  {
   "cell_type": "code",
   "execution_count": 6,
   "id": "af37801c-18d4-4c6e-b57c-763a454a1027",
   "metadata": {},
   "outputs": [],
   "source": [
    "T = CGE_Trade.SimpleArmington(name = module, glob = glob, s_kwargs = {'db': db_IO},  kwargs = {'sfor_ndom': otherData['sigma'].index})"
   ]
  },
  {
   "cell_type": "markdown",
   "id": "112ea8fa-3537-486b-94c0-9411f8da88af",
   "metadata": {},
   "source": [
    "Initialize, write, and solve:"
   ]
  },
  {
   "cell_type": "code",
   "execution_count": 7,
   "id": "f146ecb8-b82a-40fe-90ca-f84e421afe77",
   "metadata": {},
   "outputs": [],
   "source": [
    "T.compile(initDB=True);\n",
    "T.s.setstate('C')\n",
    "T.write();\n",
    "m = T.run(exportTo = d['work'],ws=ws) # solve the \"model\"."
   ]
  },
  {
   "cell_type": "markdown",
   "id": "3f8e22f8-1076-4339-92f3-8f7964a45e5e",
   "metadata": {},
   "source": [
    "Export:"
   ]
  },
  {
   "cell_type": "code",
   "execution_count": 8,
   "id": "8bbf009c-ed78-4bcf-8cb6-12bd7c35048e",
   "metadata": {},
   "outputs": [],
   "source": [
    "T.s.db = m.out_db"
   ]
  },
  {
   "cell_type": "markdown",
   "id": "0b8d07b2-db22-4b7b-a51a-c48056e8701f",
   "metadata": {},
   "source": [
    "Export:"
   ]
  },
  {
   "cell_type": "code",
   "execution_count": 10,
   "id": "3946002b-254a-4b9f-9541-b4cfe6259f6b",
   "metadata": {},
   "outputs": [],
   "source": [
    "with open(os.path.join(d['data'], T.name), \"wb\") as file:\n",
    "    pickle.dump(T,file)"
   ]
  }
 ],
 "metadata": {
  "kernelspec": {
   "display_name": "Python 3 (ipykernel)",
   "language": "python",
   "name": "python3"
  },
  "language_info": {
   "codemirror_mode": {
    "name": "ipython",
    "version": 3
   },
   "file_extension": ".py",
   "mimetype": "text/x-python",
   "name": "python",
   "nbconvert_exporter": "python",
   "pygments_lexer": "ipython3",
   "version": "3.9.7"
  }
 },
 "nbformat": 4,
 "nbformat_minor": 5
}
