{
 "cells": [
  {
   "cell_type": "code",
   "execution_count": 1,
   "id": "35b6078b-94a7-4b0c-8a8c-ef5822e2a32c",
   "metadata": {},
   "outputs": [
    {
     "name": "stdout",
     "output_type": "stream",
     "text": [
      "The file _gams_py_gdb0.gdx is still active and was not deleted.\n"
     ]
    }
   ],
   "source": [
    "clean_up = True\n",
    "%run stdPackages.ipynb"
   ]
  },
  {
   "cell_type": "code",
   "execution_count": 2,
   "id": "a0121759-33d9-4e7c-a3cc-685991d1dfe9",
   "metadata": {},
   "outputs": [],
   "source": [
    "name = 'A'\n",
    "ws = gams.GamsWorkspace(working_directory=d['work']) # specify where you want to run the GAMS models from (here the repository referred to in d['work'])\n",
    "with open(f\"{d['data']}\\\\glob_{name}\",\"rb\") as file: # load global settings anmed glob_name\n",
    "    glob=pickle.load(file)"
   ]
  },
  {
   "cell_type": "code",
   "execution_count": 3,
   "id": "253ba1fc-969d-498d-b9d8-bf804c675855",
   "metadata": {},
   "outputs": [],
   "source": [
    "def loadFromPickle(x):\n",
    "    with open(os.path.join(d['data'],x), \"rb\") as file:\n",
    "        return pickle.load(file)"
   ]
  },
  {
   "cell_type": "markdown",
   "id": "b02a81af-2ddc-4f61-b48e-bf05657d3d1e",
   "metadata": {},
   "source": [
    "### Test some methods"
   ]
  },
  {
   "cell_type": "markdown",
   "id": "d1e8c52f-f519-4662-9cf1-15ca62b5fa88",
   "metadata": {
    "tags": []
   },
   "source": [
    "### 1: Load a module and re-run:"
   ]
  },
  {
   "cell_type": "markdown",
   "id": "0cee3264-4b8a-4ba7-8b2e-7a1da0436647",
   "metadata": {},
   "source": [
    "*load pickle:*"
   ]
  },
  {
   "cell_type": "code",
   "execution_count": 4,
   "id": "d674e9ea-dfea-4972-9eb3-fe291427367e",
   "metadata": {},
   "outputs": [],
   "source": [
    "module = name+'Pi'\n",
    "f = os.path.join(d['data'], module)\n",
    "P = CGE_Production.Production_ExoMu(f = f)"
   ]
  },
  {
   "cell_type": "markdown",
   "id": "ebb7b50a-9da3-43cd-b4d1-fa4e705d988e",
   "metadata": {},
   "source": [
    "*Note: It might be a good idea to use the ```write``` method again, if any of the local placeholders have changed names (e.g. if we have added a new placeholder):*"
   ]
  },
  {
   "cell_type": "code",
   "execution_count": 5,
   "id": "778b785a-8002-4d6d-b1f0-ad5159b10952",
   "metadata": {},
   "outputs": [],
   "source": [
    "P.write();\n",
    "m = P.run(exportTo = d['work'],ws=ws,**{'cns': 'CONOPT4'}) # solve the model using CONOPT4."
   ]
  },
  {
   "cell_type": "markdown",
   "id": "0e10eb42-d809-452f-b919-afb9f8e5aa25",
   "metadata": {},
   "source": [
    "### 2: Combine modules"
   ]
  },
  {
   "cell_type": "markdown",
   "id": "fdb02685-ac0b-4bea-98ed-a9beed7aaa16",
   "metadata": {},
   "source": [
    "Standardized approach to combining multiple modules:\n",
    "1. Re-compile settings, re-write text, and re-run. Using this method, the only thing we do by loading the modules - instead of initializing them from scratch - is to use the databases.\n",
    "2. Merge ```GmsSettings``` objects when loading: Doing this, we should be vary that a couple of things might cause issues here: (i) The gams code may refer to databases with other names (%name%) syntax. (ii) The standard arguments can be repeated for all the modules we load."
   ]
  },
  {
   "cell_type": "code",
   "execution_count": 6,
   "id": "472310f3-4cc8-4556-8416-b43b3e35c347",
   "metadata": {},
   "outputs": [],
   "source": [
    "modules = [name+k for k in ('Pi','Ii','_itory','HH','Trade')]\n",
    "P = CGE_GmsPython.GmsPython(name = name, glob=glob, m = [loadFromPickle(n) for n in modules], s_kwargs = {'ws': ws})\n",
    "P.compile() # re-compile settings\n",
    "P.write() # re-write text\n",
    "m = P.run(exportTo = d['work'],ws=ws,**{'cns': 'CONOPT4'}) # solve the model using CONOPT4."
   ]
  },
  {
   "cell_type": "markdown",
   "id": "2b0dba0f-deaf-4ae0-93b4-15770546b9bd",
   "metadata": {},
   "source": [
    "*Change to calibration state, if needed:*"
   ]
  },
  {
   "cell_type": "code",
   "execution_count": 7,
   "id": "9a152b64-2a8c-4840-b533-20b4faabee59",
   "metadata": {},
   "outputs": [],
   "source": [
    "P.s.setstate('C')\n",
    "P.write();"
   ]
  }
 ],
 "metadata": {
  "kernelspec": {
   "display_name": "Python 3 (ipykernel)",
   "language": "python",
   "name": "python3"
  },
  "language_info": {
   "codemirror_mode": {
    "name": "ipython",
    "version": 3
   },
   "file_extension": ".py",
   "mimetype": "text/x-python",
   "name": "python",
   "nbconvert_exporter": "python",
   "pygments_lexer": "ipython3",
   "version": "3.9.7"
  }
 },
 "nbformat": 4,
 "nbformat_minor": 5
}
