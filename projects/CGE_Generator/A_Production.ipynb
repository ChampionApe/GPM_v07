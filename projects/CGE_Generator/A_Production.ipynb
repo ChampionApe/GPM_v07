{
 "cells": [
  {
   "cell_type": "code",
   "execution_count": 1,
   "id": "03fd278a-d005-4b06-a566-4cc4b837e7b9",
   "metadata": {},
   "outputs": [
    {
     "name": "stdout",
     "output_type": "stream",
     "text": [
      "The file _gams_py_gdb0.gdx is still active and was not deleted.\n",
      "The file _gams_py_gdb1.gdx is still active and was not deleted.\n",
      "The file _gams_py_gdb3.gdx is still active and was not deleted.\n"
     ]
    }
   ],
   "source": [
    "clean_up = True\n",
    "%run stdPackages.ipynb"
   ]
  },
  {
   "cell_type": "code",
   "execution_count": 2,
   "id": "9beeac02-cd39-437f-8563-f579a5cb211c",
   "metadata": {},
   "outputs": [],
   "source": [
    "ws = gams.GamsWorkspace(working_directory=d['work']) # specify where you want to run the GAMS models from (here the repository referred to in d['work'])"
   ]
  },
  {
   "cell_type": "markdown",
   "id": "63ec4e85-7c39-44ea-8d73-b902f5738233",
   "metadata": {},
   "source": [
    "### 1. Settings"
   ]
  },
  {
   "cell_type": "code",
   "execution_count": 3,
   "id": "9372c8bd-0974-4228-96a5-9c9abe039a76",
   "metadata": {},
   "outputs": [],
   "source": [
    "name = 'A' # name of model\n",
    "module = name+'Pi' # name of module\n",
    "db_IO = GpyDB(f\"{d['data']}\\\\IO_{name}\") # load IO database named IO_name\n",
    "db_IO0 = db_IO.copy() # we are going to adjust data along the way; this keeps a copy of the original data\n",
    "with open(f\"{d['data']}\\\\glob_{name}\",\"rb\") as file: # load global settings anmed glob_name\n",
    "    glob=pickle.load(file)\n",
    "Tree = nestingTree.aggTree_from_data(f\"{d['data']}\\\\A_ProductionNests.xlsx\", read_trees = {'tree': {'name': module+'_tree','f':'CES'}}, name = module)(namespace={n+'_input': n for n in db_IO.get('n')}) # load nesting structure "
   ]
  },
  {
   "cell_type": "markdown",
   "id": "b556b96c-95b2-45dd-a05b-d90bfc055b8f",
   "metadata": {},
   "source": [
    "Create static user cost measure for durables before initializing static calibration and add to data:"
   ]
  },
  {
   "cell_type": "code",
   "execution_count": 4,
   "id": "d58de535-dc76-4248-99d3-0150a8fc7565",
   "metadata": {},
   "outputs": [],
   "source": [
    "pDur = adjMultiIndex.applyMult( db_IO.get('p').rename_axis(index={'n':'nn'}), db_IO.get('dur2inv')).dropna().droplevel('nn') * (glob.db['R_LR'].vals / (1+glob.db['infl_LR'].vals) +db_IO.get('rDepr')-1)\n",
    "db_IO['pD'] = pDur.combine_first(db_IO.get('pD'))\n",
    "db_IO['p'] = pDur.groupby(['t','n']).mean().combine_first(db_IO.get('p'))"
   ]
  },
  {
   "cell_type": "markdown",
   "id": "2fe6ea88-0faa-4eb6-85cb-443f1034e5ee",
   "metadata": {},
   "source": [
    "### 2. Initialize module"
   ]
  },
  {
   "cell_type": "markdown",
   "id": "947a67c6-0274-4816-a3e5-a4ee48c4049f",
   "metadata": {},
   "source": [
    "Initialize production module, without any durables at first:"
   ]
  },
  {
   "cell_type": "code",
   "execution_count": 5,
   "id": "9cee0bf1-8f1f-49ca-8cfd-e50e56172064",
   "metadata": {},
   "outputs": [],
   "source": [
    "P = CGE_Production.Production(tree=Tree, glob = glob) # initialize module from nesting tree and global settings\n",
    "aggregateDB.subset_db(db_IO, Tree.db.get('s')) # goes through all symbols in db_IO and only keep the elements that are in the set 's' from Tree.db\n",
    "aggregateDB.subset_db(db_IO, Tree.get('n')) # goes through all symbols in db_IO and only keep the elements that are in the set 'n' from Tree.db\n",
    "robust.robust_merge_dbs(P.s.db, db_IO, priority = 'second') # Merge IO data into the database of the module; if a symbol is in both, prioritize records from the second database"
   ]
  },
  {
   "cell_type": "markdown",
   "id": "54ff6721-89a8-41b7-937d-097a6fca5ff4",
   "metadata": {},
   "source": [
    "Add value shares:"
   ]
  },
  {
   "cell_type": "code",
   "execution_count": 6,
   "id": "51bb45ad-9a86-49de-b0f2-7e333e78701c",
   "metadata": {},
   "outputs": [],
   "source": [
    "v = valueShares.valueShares(Tree, db_IO.copy())\n",
    "v.compile() # set up model structure, and make sure to initialize symbols if they are not yet defined in the database \n",
    "v.write(); # write GAMS code used for the model\n",
    "m = v.run(exportTo = d['work'],ws=ws) # solve the \"model\"."
   ]
  },
  {
   "cell_type": "markdown",
   "id": "11c94d9e-633f-4f5d-ba80-bde441a8b62c",
   "metadata": {},
   "source": [
    "Use value shares to initialize variables:\n",
    "* Outputs and inputs are provided by IO data.\n",
    "* For intermediate goods, assume a price of 1 (default option in the class, so we don't have to do anything) and set value share = quantity.\n",
    "* Set share parameters to the ones identified by value share system."
   ]
  },
  {
   "cell_type": "code",
   "execution_count": 7,
   "id": "03b5d4a5-78db-4642-9f7f-ef05c69b43d7",
   "metadata": {},
   "outputs": [],
   "source": [
    "gpyDB.GpyDBs_AOM_Second(P.s.db, gpy(adj.rc_pd(m.out_db.get('vD'), P.get('int')).rename('qD'))) # set intermediate goods levels\n",
    "gpyDB.GpyDBs_AOM_Second(P.s.db, gpy(m.out_db.get('mu').xs(P.get('t0')[0]).rename('mu'))) # set intermediate goods levels"
   ]
  },
  {
   "cell_type": "code",
   "execution_count": 8,
   "id": "c1df1b4d-4fe7-4e9c-a505-db4a261e3f71",
   "metadata": {},
   "outputs": [],
   "source": [
    "P.s.db['tauLump'] = db_IO.get('TotalTax').rename('tauLump')"
   ]
  },
  {
   "cell_type": "markdown",
   "id": "6297c326-4cc7-4092-9671-2a1f8e5735b5",
   "metadata": {},
   "source": [
    "### 3. Static calibration"
   ]
  },
  {
   "cell_type": "code",
   "execution_count": 9,
   "id": "9f0be1e5-be7c-4994-8197-d4ce5e7bdfc4",
   "metadata": {},
   "outputs": [],
   "source": [
    "P.compile(initDB=True) # set up model structure, and make sure to initialize symbols if they are not yet defined in the database (initDB = True)\n",
    "P.s.setstate('C') # set to calibration state\n",
    "P.write(); # write GAMS code\n",
    "mStatic = P.run(exportTo = d['work'],ws=ws,**{'cns': 'CONOPT4'}) # solve the model using CONOPT4."
   ]
  },
  {
   "cell_type": "markdown",
   "id": "e7f45c63-2809-4070-9178-120edaf167f1",
   "metadata": {},
   "source": [
    "### 4. Dynamic calibration"
   ]
  },
  {
   "cell_type": "markdown",
   "id": "f9c811b5-7ba3-413d-a156-5ab510c6e729",
   "metadata": {},
   "source": [
    "Initialize module with static calibration as data:"
   ]
  },
  {
   "cell_type": "code",
   "execution_count": 10,
   "id": "15e24945-3a74-4d47-ac30-00afb2d8de87",
   "metadata": {},
   "outputs": [],
   "source": [
    "P = CGE_Production.Production_ExoMu(tree = Tree, glob = glob)\n",
    "robust.robust_merge_dbs(P.s.db, mStatic.out_db.getTypes(['variable','scalar_variable']), priority = 'second')"
   ]
  },
  {
   "cell_type": "markdown",
   "id": "effa2598-38f8-46e1-844d-635f9754a8d4",
   "metadata": {},
   "source": [
    "Add durables:"
   ]
  },
  {
   "cell_type": "code",
   "execution_count": 11,
   "id": "5e87563a-1fea-49e1-ab9b-5f6d5b1e852d",
   "metadata": {},
   "outputs": [],
   "source": [
    "P.addDurables(dur = db_IO0.get('dur_p'), dur2inv = db_IO0.get('dur2inv'))\n",
    "P.initDurables() # adjust to steady state-like model\n",
    "P.compile(initDB=True) # set up model structure\n",
    "P.write(); # write GAMS code\n",
    "# mBaseline = P.run(exportTo = d['work'],ws=ws,**{'cns': 'CONOPT4'}) # solve the model using CONOPT4; baselinea"
   ]
  },
  {
   "cell_type": "markdown",
   "id": "ed3e3aaa-1659-49be-bf58-413bf140ac08",
   "metadata": {},
   "source": [
    "Solve dynamic calibration:"
   ]
  },
  {
   "cell_type": "code",
   "execution_count": 12,
   "id": "423dc160-138e-4538-a6d0-14191956c7d0",
   "metadata": {},
   "outputs": [],
   "source": [
    "aggregateDB.subset_db(db_IO0, P.get('t0')) # Only keep IO data on baseline year\n",
    "mCalib, cp = P.sneakyCalib(db_IO0, exportTo = d['work'],ws=ws, loop_kwargs = {'n': 10}, **{'cns': 'CONOPT4'})"
   ]
  },
  {
   "cell_type": "markdown",
   "id": "144e720c-3b24-4d4d-8564-2fa2a58a8310",
   "metadata": {},
   "source": [
    "Inspect transition of durables:"
   ]
  },
  {
   "cell_type": "code",
   "execution_count": 13,
   "id": "e8d89226-a33a-4d45-a472-c86c0cfb12f8",
   "metadata": {},
   "outputs": [
    {
     "data": {
      "image/png": "[encoded data removed]",
      "text/plain": [
       "<Figure size 576x396 with 4 Axes>"
      ]
     },
     "metadata": {},
     "output_type": "display_data"
    }
   ],
   "source": [
    "adj.rc_pd(mCalib.out_db.get('qD'), P.get('dur')).unstack('s').unstack('n').plot(subplots=True);"
   ]
  },
  {
   "cell_type": "code",
   "execution_count": 14,
   "id": "c3397715-d5b4-407e-9cb3-0a4ac39dce00",
   "metadata": {},
   "outputs": [
    {
     "data": {
      "image/png": "[encoded data removed]",
      "text/plain": [
       "<Figure size 576x396 with 4 Axes>"
      ]
     },
     "metadata": {},
     "output_type": "display_data"
    }
   ],
   "source": [
    "adj.rc_pd(mCalib.out_db.get('pD'), P.get('dur')).unstack('s').unstack('n').plot(subplots=True);"
   ]
  },
  {
   "cell_type": "markdown",
   "id": "98715365-71d9-4650-be27-78cae2b38e45",
   "metadata": {},
   "source": [
    "### 5. Export "
   ]
  },
  {
   "cell_type": "code",
   "execution_count": 15,
   "id": "712e9845-f854-4911-a8ad-ff4c7da5a573",
   "metadata": {},
   "outputs": [],
   "source": [
    "P.s.db = mCalib.out_db\n",
    "P.s.setstate('B')"
   ]
  },
  {
   "cell_type": "markdown",
   "id": "907eb486-876e-4d29-a050-f622f8474e29",
   "metadata": {},
   "source": [
    "Export:"
   ]
  },
  {
   "cell_type": "code",
   "execution_count": 16,
   "id": "9c1a880a-d276-4946-a13f-4033cd0daf79",
   "metadata": {},
   "outputs": [],
   "source": [
    "with open(os.path.join(d['data'], P.name), \"wb\") as file:\n",
    "    pickle.dump(P,file)"
   ]
  }
 ],
 "metadata": {
  "kernelspec": {
   "display_name": "Python 3 (ipykernel)",
   "language": "python",
   "name": "python3"
  },
  "language_info": {
   "codemirror_mode": {
    "name": "ipython",
    "version": 3
   },
   "file_extension": ".py",
   "mimetype": "text/x-python",
   "name": "python",
   "nbconvert_exporter": "python",
   "pygments_lexer": "ipython3",
   "version": "3.9.7"
  }
 },
 "nbformat": 4,
 "nbformat_minor": 5
}
