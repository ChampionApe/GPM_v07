{
 "cells": [
  {
   "cell_type": "code",
   "execution_count": 1,
   "id": "35b6078b-94a7-4b0c-8a8c-ef5822e2a32c",
   "metadata": {},
   "outputs": [
    {
     "name": "stdout",
     "output_type": "stream",
     "text": [
      "The file_gams_py_gdb0.gdx is still active and was not deleted.\n",
      "The file_gams_py_gdb1.gdx is still active and was not deleted.\n",
      "The file_gams_py_gdb4.gdx is still active and was not deleted.\n"
     ]
    }
   ],
   "source": [
    "clean_up = True\n",
    "%run stdPackages.ipynb"
   ]
  },
  {
   "cell_type": "code",
   "execution_count": 2,
   "id": "ae0c939c-0426-44cc-a663-f746c9494d66",
   "metadata": {},
   "outputs": [],
   "source": [
    "ws = gams.GamsWorkspace(working_directory=d['work']) # specify where you want to run the GAMS models from (here the repository referred to in d['work'])"
   ]
  },
  {
   "cell_type": "markdown",
   "id": "0cee3264-4b8a-4ba7-8b2e-7a1da0436647",
   "metadata": {},
   "source": [
    "*load pickle:*"
   ]
  },
  {
   "cell_type": "code",
   "execution_count": 3,
   "id": "d674e9ea-dfea-4972-9eb3-fe291427367e",
   "metadata": {},
   "outputs": [],
   "source": [
    "name = 'A'\n",
    "module = name+'Pi'\n",
    "f = os.path.join(d['data'], module)\n",
    "P = CGE_Production.Production_ExoMu(f = f)"
   ]
  },
  {
   "cell_type": "markdown",
   "id": "ebb7b50a-9da3-43cd-b4d1-fa4e705d988e",
   "metadata": {},
   "source": [
    "*Note: It might be a good idea to use the ```write``` method again, if any of the local placeholders have changed names (e.g. if we have added a new placeholder):*"
   ]
  },
  {
   "cell_type": "code",
   "execution_count": 6,
   "id": "778b785a-8002-4d6d-b1f0-ad5159b10952",
   "metadata": {},
   "outputs": [],
   "source": [
    "P.write();\n",
    "m = P.run(exportTo = d['work'],ws=ws,**{'cns': 'CONOPT4'}) # solve the model using CONOPT4."
   ]
  }
 ],
 "metadata": {
  "kernelspec": {
   "display_name": "Python 3 (ipykernel)",
   "language": "python",
   "name": "python3"
  },
  "language_info": {
   "codemirror_mode": {
    "name": "ipython",
    "version": 3
   },
   "file_extension": ".py",
   "mimetype": "text/x-python",
   "name": "python",
   "nbconvert_exporter": "python",
   "pygments_lexer": "ipython3",
   "version": "3.9.7"
  }
 },
 "nbformat": 4,
 "nbformat_minor": 5
}
