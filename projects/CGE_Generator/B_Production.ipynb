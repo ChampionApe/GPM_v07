{
 "cells": [
  {
   "cell_type": "code",
   "execution_count": 1,
   "id": "b20716e3-a544-4417-bcac-5fc0484f4a8f",
   "metadata": {},
   "outputs": [
    {
     "name": "stdout",
     "output_type": "stream",
     "text": [
      "The file _gams_py_gdb0.gdx is still active and was not deleted.\n",
      "The file _gams_py_gdb3.gdx is still active and was not deleted.\n"
     ]
    }
   ],
   "source": [
    "clean_up = True\n",
    "%run stdPackages.ipynb"
   ]
  },
  {
   "cell_type": "code",
   "execution_count": 2,
   "id": "4a372eb4-072e-4a2f-a4ba-57b98c1fbf37",
   "metadata": {},
   "outputs": [],
   "source": [
    "ws = gams.GamsWorkspace(working_directory=d['work']) # specify where you want to run the GAMS models from (here the repository referred to in d['work'])"
   ]
  },
  {
   "cell_type": "markdown",
   "id": "73e71a57-3984-4955-9900-8e0257896fbb",
   "metadata": {},
   "source": [
    "### 1. Settings"
   ]
  },
  {
   "cell_type": "code",
   "execution_count": 3,
   "id": "efe84cbb-3bd6-4e18-a1a4-f6ee32db08c1",
   "metadata": {},
   "outputs": [],
   "source": [
    "name = 'B' # name of model\n",
    "module = name+'Pi' # name of module\n",
    "db_IO = GpyDB(f\"{d['data']}\\\\IO_{name}\") # load IO database named IO_name\n",
    "db_IO0 = db_IO.copy() # we are going to adjust data along the way; this keeps a copy of the original data\n",
    "with open(f\"{d['data']}\\\\glob_{name}\",\"rb\") as file: # load global settings anmed glob_name\n",
    "    glob=pickle.load(file)\n",
    "Tree = nestingTree.aggTree_from_data(f\"{d['data']}\\\\B_ProductionNests.xlsx\", read_trees = {'tree': {'name': module+'_tree','f':'CES'}}, name = module)(namespace={n+'_input': n for n in db_IO.get('n')}) # load nesting structure "
   ]
  },
  {
   "cell_type": "markdown",
   "id": "e682a0ff-6d6d-4dd3-be4b-5d06ba3af8f1",
   "metadata": {},
   "source": [
    "### 2. Initialize module"
   ]
  },
  {
   "cell_type": "code",
   "execution_count": 4,
   "id": "bf2d6ce6-55ff-4e53-b00c-de20589066bf",
   "metadata": {},
   "outputs": [],
   "source": [
    "P = CGE_Production.Production(tree=Tree, glob = glob) # initialize module from nesting tree and global settings\n",
    "aggregateDB.subset_db(db_IO, Tree.db.get('s')) # goes through all symbols in db_IO and only keep the elements that are in the set 's' from Tree.db\n",
    "aggregateDB.subset_db(db_IO, Tree.get('n')) # goes through all symbols in db_IO and only keep the elements that are in the set 'n' from Tree.db\n",
    "robust.robust_merge_dbs(P.s.db, db_IO, priority = 'second') # Merge IO data into the database of the module; if a symbol is in both, prioritize records from the second database"
   ]
  },
  {
   "cell_type": "markdown",
   "id": "58f6e8a6-d768-44c6-9b41-911e222ea145",
   "metadata": {},
   "source": [
    "Add value shares:"
   ]
  },
  {
   "cell_type": "code",
   "execution_count": 5,
   "id": "7beb37b2-1565-40f1-bc6c-0d974947d7a1",
   "metadata": {},
   "outputs": [],
   "source": [
    "v = valueShares.valueShares(Tree, db_IO.copy())\n",
    "v.compile() # set up model structure, and make sure to initialize symbols if they are not yet defined in the database \n",
    "v.write(); # write GAMS code used for the model\n",
    "m = v.run(exportTo = d['work'],ws=ws) # solve the \"model\"."
   ]
  },
  {
   "cell_type": "markdown",
   "id": "c0f44037-95a5-4340-a215-590302bfd935",
   "metadata": {},
   "source": [
    "Use value shares to initialize variables:\n",
    "* Outputs and inputs are provided by IO data.\n",
    "* For intermediate goods, assume a price of 1 (default option in the class, so we don't have to do anything) and set value share = quantity.\n",
    "* Set share parameters to the ones identified by value share system."
   ]
  },
  {
   "cell_type": "code",
   "execution_count": 6,
   "id": "f5275132-7ea0-4474-9d89-463e50201e99",
   "metadata": {},
   "outputs": [],
   "source": [
    "gpyDB.GpyDBs_AOM_Second(P.s.db, gpy(adj.rc_pd(m.out_db.get('vD'), P.get('int')).rename('qD'))) # set intermediate goods levels\n",
    "gpyDB.GpyDBs_AOM_Second(P.s.db, gpy(m.out_db.get('mu').xs(P.get('t0')[0]).rename('mu'))) # set intermediate goods levels"
   ]
  },
  {
   "cell_type": "code",
   "execution_count": 7,
   "id": "285073f5-122e-464c-a87e-c950b6cc4160",
   "metadata": {},
   "outputs": [],
   "source": [
    "P.s.db['tauLump'] = db_IO.get('TotalTax').rename('tauLump')"
   ]
  },
  {
   "cell_type": "markdown",
   "id": "82b52ae6-df32-4e06-b3a6-b2f0644f39a3",
   "metadata": {},
   "source": [
    "### 3. Static calibration"
   ]
  },
  {
   "cell_type": "code",
   "execution_count": 8,
   "id": "a313bd1d-bb00-4b15-8641-4b3f826a4d29",
   "metadata": {},
   "outputs": [],
   "source": [
    "P.compile(initDB=True) # set up model structure, and make sure to initialize symbols if they are not yet defined in the database (initDB = True)\n",
    "P.s.setstate('C') # set to calibration state\n",
    "P.write(); # write GAMS code\n",
    "mStatic = P.run(exportTo = d['work'],ws=ws,**{'cns': 'CONOPT4'}) # solve the model using CONOPT4."
   ]
  },
  {
   "cell_type": "markdown",
   "id": "cab975dc-3084-4bf0-8e9b-3801ba9c06ae",
   "metadata": {},
   "source": [
    "### 4. Export "
   ]
  },
  {
   "cell_type": "code",
   "execution_count": 10,
   "id": "9360f582-0614-4fa5-9a32-1836d3c3af03",
   "metadata": {},
   "outputs": [],
   "source": [
    "P.s.db = mStatic.out_db\n",
    "P.s.setstate('B')"
   ]
  },
  {
   "cell_type": "markdown",
   "id": "2a1bac79-9fec-40f4-9abb-02976412b6b2",
   "metadata": {},
   "source": [
    "Export:"
   ]
  },
  {
   "cell_type": "code",
   "execution_count": 11,
   "id": "b6ae49ed-2b57-4f9d-be36-f1baf9162f10",
   "metadata": {},
   "outputs": [],
   "source": [
    "with open(os.path.join(d['data'], P.name), \"wb\") as file:\n",
    "    pickle.dump(P,file)"
   ]
  }
 ],
 "metadata": {
  "kernelspec": {
   "display_name": "Python 3 (ipykernel)",
   "language": "python",
   "name": "python3"
  },
  "language_info": {
   "codemirror_mode": {
    "name": "ipython",
    "version": 3
   },
   "file_extension": ".py",
   "mimetype": "text/x-python",
   "name": "python",
   "nbconvert_exporter": "python",
   "pygments_lexer": "ipython3",
   "version": "3.9.7"
  }
 },
 "nbformat": 4,
 "nbformat_minor": 5
}
