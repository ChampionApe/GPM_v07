{
 "cells": [
  {
   "cell_type": "code",
   "execution_count": 1,
   "id": "1da87322-750d-47bf-93b5-3dcdd5f8e20e",
   "metadata": {},
   "outputs": [],
   "source": [
    "clean_up = True\n",
    "%run stdPackages.ipynb\n",
    "ws = gams.GamsWorkspace(working_directory=d['work']) # specify where you want to run the GAMS models from (here the repository referred to in d['work'])"
   ]
  },
  {
   "cell_type": "markdown",
   "id": "7f411a46-acea-443e-9042-d687925b137e",
   "metadata": {},
   "source": [
    "### 1. Settings"
   ]
  },
  {
   "cell_type": "code",
   "execution_count": 2,
   "id": "70530b63-6be6-40cc-bcb4-7d1be6c6986b",
   "metadata": {},
   "outputs": [],
   "source": [
    "name = 'B' # name of model\n",
    "module = name+'HH' # name of module\n",
    "db_IO = GpyDB(f\"{d['data']}\\\\IO_{name}\") # load IO database named IO_name\n",
    "db_IO0 = db_IO.copy() # we are going to adjust data along the way; this keeps a copy of the original data\n",
    "with open(f\"{d['data']}\\\\glob_{name}\",\"rb\") as file: # load global settings anmed glob_name\n",
    "    glob=pickle.load(file)\n",
    "Tree = nestingTree.aggTree_from_data(f\"{d['data']}\\\\A_HouseholdNests.xlsx\", read_trees = {'consumption': {'name': module+'_Nest', 'f':'CES'}}, name = module)() # load nesting structure \n",
    "otherData = read.SeriesDB_from_wb(f\"{d['data']}\\\\A_HouseholdNests.xlsx\", {'variables': ['labor'], 'maps': ['maps']})\n",
    "robust.robust_merge_dbs(Tree.db, otherData, priority='second')"
   ]
  },
  {
   "cell_type": "markdown",
   "id": "76f69270-8130-4836-9f18-45988970ed47",
   "metadata": {},
   "source": [
    "### 2. Initialize module"
   ]
  },
  {
   "cell_type": "markdown",
   "id": "f6b55468-ae65-4b0e-867e-203ac3ff017c",
   "metadata": {},
   "source": [
    "*Initialize module without any savings first (static method):*"
   ]
  },
  {
   "cell_type": "code",
   "execution_count": 3,
   "id": "6f72c48f-f387-4c54-8f9e-cc1aeddd375a",
   "metadata": {},
   "outputs": [],
   "source": [
    "H = CGE_Households.SimpleRamsey(tree = Tree, glob = glob, kwargs = {'L2C': otherData['L2C'].vals, 'svngs': db_IO.get('svngs')}) # init module\n",
    "aggregateDB.subset_db(db_IO, H.get('s')) # Keep data on relevant sectors\n",
    "aggregateDB.subset_db(db_IO, H.get('n')) # Keep data on relevant goods\n",
    "robust.robust_merge_dbs(H.s.db, db_IO, priority = 'second') # Merge IO data into the database of the module; if a symbol is in both, prioritize records from the second database"
   ]
  },
  {
   "cell_type": "markdown",
   "id": "c0ae8922-c440-4c59-af95-32bf12696c2e",
   "metadata": {},
   "source": [
    "*Value shares for nesting part:*"
   ]
  },
  {
   "cell_type": "code",
   "execution_count": 4,
   "id": "9c8722ed-099c-4171-91f3-b8e84b2975f9",
   "metadata": {},
   "outputs": [],
   "source": [
    "v = valueShares.SimpleRamsey(Tree, db_IO.copy())\n",
    "v.compile() # set up model structure, and make sure to initialize symbols if they are not yet defined in the database \n",
    "v.write(); # write GAMS code used for the model\n",
    "m = v.run(exportTo = d['work'],ws=ws) # solve the \"model\"."
   ]
  },
  {
   "cell_type": "markdown",
   "id": "e61598e4-ba8a-4918-9ac2-f5b96cd9be77",
   "metadata": {},
   "source": [
    "Use value shares to initialize variables:\n",
    "* Outputs and inputs are provided by IO data.\n",
    "* For intermediate goods, assume a price of 1 (default option in the class, so we don't have to do anything) and set value share = quantity.\n",
    "* Set share parameters to the ones identified by value share system."
   ]
  },
  {
   "cell_type": "code",
   "execution_count": 5,
   "id": "368171fc-9622-483a-ba40-6b70305314ed",
   "metadata": {},
   "outputs": [],
   "source": [
    "gpyDB.GpyDBs_AOM_Second(H.s.db, gpy(adj.rc_pd(m.out_db.get('vD'), H.get('int')).rename('qD'))) # set intermediate goods levels\n",
    "gpyDB.GpyDBs_AOM_Second(H.s.db, gpy(m.out_db.get('mu').xs(H.get('t0')[0]).rename('mu'))) # set share parameters"
   ]
  },
  {
   "cell_type": "markdown",
   "id": "0b11c4d6-54fc-4f36-a62e-fee540ed1aa1",
   "metadata": {},
   "source": [
    "Fit lump sum taxation to total tax revenue:"
   ]
  },
  {
   "cell_type": "code",
   "execution_count": 6,
   "id": "5aebfdb2-4d56-4cec-b746-2fd13f89361b",
   "metadata": {},
   "outputs": [],
   "source": [
    "H.s.db['tauLump'] = db_IO.get('TotalTax').rename('tauLump')\n",
    "# H.s.db['frisch'] = H.get('frisch') * 0 # Fix labor supply"
   ]
  },
  {
   "cell_type": "markdown",
   "id": "987fb07a-cc3f-473a-9403-aef1ca25b326",
   "metadata": {},
   "source": [
    "Use sneaky calibration method to solve and calibrate:"
   ]
  },
  {
   "cell_type": "code",
   "execution_count": 7,
   "id": "d2ff6062-1396-474f-9912-9c161e665b01",
   "metadata": {},
   "outputs": [],
   "source": [
    "H.compile(initDB=True)\n",
    "H.write();\n",
    "mCalib, cp = H.sneakyCalib(db_IO, ws = ws, loop_kwargs = {'n': 25}, **{'cns': 'CONOPT4'})"
   ]
  },
  {
   "cell_type": "markdown",
   "id": "9a92b033-31a7-4b4e-983c-fac17e43faa8",
   "metadata": {},
   "source": [
    "Let's e.g. have a look at how assets evolve:"
   ]
  },
  {
   "cell_type": "code",
   "execution_count": 8,
   "id": "6b23ed4a-673c-4c21-bd42-e134f045531b",
   "metadata": {},
   "outputs": [
    {
     "data": {
      "image/png": "[encoded data removed]",
      "text/plain": [
       "<Figure size 576x396 with 1 Axes>"
      ]
     },
     "metadata": {},
     "output_type": "display_data"
    }
   ],
   "source": [
    "adj.rc_pd(mCalib.out_db.get('vD'), H.get('svngs')).unstack('s').unstack('n').plot(subplots=True);"
   ]
  },
  {
   "cell_type": "markdown",
   "id": "45a2677d-e91a-4f0e-acc5-cc163f0fa98c",
   "metadata": {},
   "source": [
    "### 5. Export "
   ]
  },
  {
   "cell_type": "code",
   "execution_count": 9,
   "id": "07df647c-7832-4ab7-9817-3d8992b66671",
   "metadata": {},
   "outputs": [],
   "source": [
    "H.s.db = mCalib.out_db\n",
    "H.s.setstate('B')"
   ]
  },
  {
   "cell_type": "markdown",
   "id": "91a4c160-d71a-4cc5-992f-84ae89b13ec6",
   "metadata": {},
   "source": [
    "Export:"
   ]
  },
  {
   "cell_type": "code",
   "execution_count": 10,
   "id": "ebff4163-e0ce-4d62-a95a-2018c9af59ea",
   "metadata": {},
   "outputs": [],
   "source": [
    "with open(os.path.join(d['data'], H.name), \"wb\") as file:\n",
    "    pickle.dump(H,file)"
   ]
  }
 ],
 "metadata": {
  "kernelspec": {
   "display_name": "Python 3 (ipykernel)",
   "language": "python",
   "name": "python3"
  },
  "language_info": {
   "codemirror_mode": {
    "name": "ipython",
    "version": 3
   },
   "file_extension": ".py",
   "mimetype": "text/x-python",
   "name": "python",
   "nbconvert_exporter": "python",
   "pygments_lexer": "ipython3",
   "version": "3.9.7"
  }
 },
 "nbformat": 4,
 "nbformat_minor": 5
}
