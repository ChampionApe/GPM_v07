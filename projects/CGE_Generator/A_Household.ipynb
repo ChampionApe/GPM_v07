{
 "cells": [
  {
   "cell_type": "code",
   "execution_count": 1,
   "id": "e4441d34-126f-43ac-b78d-a1c5214875f7",
   "metadata": {},
   "outputs": [],
   "source": [
    "clean_up = True\n",
    "%run stdPackages.ipynb\n",
    "ws = gams.GamsWorkspace(working_directory=d['work']) # specify where you want to run the GAMS models from (here the repository referred to in d['work'])"
   ]
  },
  {
   "cell_type": "markdown",
   "id": "ef31de19-5bbb-4b38-824f-95357c99cedc",
   "metadata": {},
   "source": [
    "### 1. Settings"
   ]
  },
  {
   "cell_type": "code",
   "execution_count": 2,
   "id": "0d7afba6-e38f-4b12-88d3-412b104420a7",
   "metadata": {},
   "outputs": [],
   "source": [
    "name = 'A' # name of model\n",
    "module = name+'HH' # name of module\n",
    "db_IO = GpyDB(f\"{d['data']}\\\\IO_{name}\") # load IO database named IO_name\n",
    "db_IO0 = db_IO.copy() # we are going to adjust data along the way; this keeps a copy of the original data\n",
    "with open(f\"{d['data']}\\\\glob_{name}\",\"rb\") as file: # load global settings anmed glob_name\n",
    "    glob=pickle.load(file)\n",
    "Tree = nestingTree.aggTree_from_data(f\"{d['data']}\\\\A_HouseholdNests.xlsx\", read_trees = {'consumption': {'name': module+'_Nest', 'f':'CES'}}, name = module)() # load nesting structure \n",
    "otherData = read.SeriesDB_from_wb(f\"{d['data']}\\\\A_HouseholdNests.xlsx\", {'variables': ['labor'], 'maps': ['maps']})\n",
    "robust.robust_merge_dbs(Tree.db, otherData, priority='second')"
   ]
  },
  {
   "cell_type": "markdown",
   "id": "e93614ba-d84a-41b8-ab15-6baeb82578f5",
   "metadata": {},
   "source": [
    "### 2. Initialize module"
   ]
  },
  {
   "cell_type": "markdown",
   "id": "ede778d2-ec8a-45db-a3ad-54e47c41dbf7",
   "metadata": {},
   "source": [
    "*Initialize module without any savings first (static method):*"
   ]
  },
  {
   "cell_type": "code",
   "execution_count": 3,
   "id": "39a050b7-da0e-4d06-b335-18f1911e73e2",
   "metadata": {},
   "outputs": [],
   "source": [
    "H = CGE_Households.SimpleRamsey(tree = Tree, glob = glob, kwargs = {'L2C': otherData['L2C'].vals, 'svngs': db_IO.get('svngs')}) # init module\n",
    "aggregateDB.subset_db(db_IO, H.get('s')) # Keep data on relevant sectors\n",
    "aggregateDB.subset_db(db_IO, H.get('n')) # Keep data on relevant goods\n",
    "robust.robust_merge_dbs(H.s.db, db_IO, priority = 'second') # Merge IO data into the database of the module; if a symbol is in both, prioritize records from the second database"
   ]
  },
  {
   "cell_type": "markdown",
   "id": "ae76422a-c6ab-4ebc-aba8-90e8477c5957",
   "metadata": {},
   "source": [
    "*Value shares for nesting part:*"
   ]
  },
  {
   "cell_type": "code",
   "execution_count": 4,
   "id": "bd406ce7-cf7d-4584-9053-76052ca739ee",
   "metadata": {},
   "outputs": [],
   "source": [
    "v = valueShares.SimpleRamsey(Tree, db_IO.copy())\n",
    "v.compile() # set up model structure, and make sure to initialize symbols if they are not yet defined in the database \n",
    "v.write(); # write GAMS code used for the model\n",
    "m = v.run(exportTo = d['work'],ws=ws) # solve the \"model\"."
   ]
  },
  {
   "cell_type": "markdown",
   "id": "540c8567-d7c3-4478-b733-68a74a0c8991",
   "metadata": {},
   "source": [
    "Use value shares to initialize variables:\n",
    "* Outputs and inputs are provided by IO data.\n",
    "* For intermediate goods, assume a price of 1 (default option in the class, so we don't have to do anything) and set value share = quantity.\n",
    "* Set share parameters to the ones identified by value share system."
   ]
  },
  {
   "cell_type": "code",
   "execution_count": 5,
   "id": "3156878b-15ae-4e6c-af5f-7e3fe3fd12e6",
   "metadata": {},
   "outputs": [],
   "source": [
    "gpyDB.GpyDBs_AOM_Second(H.s.db, gpy(adj.rc_pd(m.out_db.get('vD'), H.get('int')).rename('qD'))) # set intermediate goods levels\n",
    "gpyDB.GpyDBs_AOM_Second(H.s.db, gpy(m.out_db.get('mu').xs(H.get('t0')[0]).rename('mu'))) # set share parameters"
   ]
  },
  {
   "cell_type": "markdown",
   "id": "8295d499-51a1-476d-a6d5-eb625764d532",
   "metadata": {},
   "source": [
    "Fit lump sum taxation to total tax revenue:"
   ]
  },
  {
   "cell_type": "code",
   "execution_count": 6,
   "id": "0c69a012-d7d2-4465-8750-0e1ac954688d",
   "metadata": {},
   "outputs": [],
   "source": [
    "H.s.db['tauLump'] = db_IO.get('TotalTax').rename('tauLump')\n",
    "# H.s.db['frisch'] = H.get('frisch') * 0 # Fix labor supply"
   ]
  },
  {
   "cell_type": "markdown",
   "id": "70c6e306-1592-477f-a3e4-0cd2087ab74b",
   "metadata": {},
   "source": [
    "Use sneaky calibration method to solve and calibrate:"
   ]
  },
  {
   "cell_type": "code",
   "execution_count": 7,
   "id": "1bcc2a76-0f78-4668-8de0-ffca1ced0a77",
   "metadata": {},
   "outputs": [],
   "source": [
    "H.compile(initDB=True)\n",
    "H.write();\n",
    "mCalib, cp = H.sneakyCalib(db_IO, ws = ws, loop_kwargs = {'n': 25}, **{'cns': 'CONOPT4'})"
   ]
  },
  {
   "cell_type": "markdown",
   "id": "629a06be-fe8e-41ed-906e-026864eac37f",
   "metadata": {},
   "source": [
    "Let's e.g. have a look at how assets evolve:"
   ]
  },
  {
   "cell_type": "code",
   "execution_count": 8,
   "id": "d822e128-4beb-4aac-89a3-90ec409b8cdf",
   "metadata": {},
   "outputs": [
    {
     "data": {
      "image/png": "[encoded data removed]",
      "text/plain": [
       "<Figure size 576x396 with 1 Axes>"
      ]
     },
     "metadata": {},
     "output_type": "display_data"
    }
   ],
   "source": [
    "adj.rc_pd(mCalib.out_db.get('vD'), H.get('svngs')).unstack('s').unstack('n').plot(subplots=True);"
   ]
  },
  {
   "cell_type": "markdown",
   "id": "562fc805-1a31-4577-ab0c-9fe70bc8410e",
   "metadata": {},
   "source": [
    "### 5. Export "
   ]
  },
  {
   "cell_type": "code",
   "execution_count": 9,
   "id": "ee0974c0-1e17-4893-941f-d5d4755ca606",
   "metadata": {},
   "outputs": [],
   "source": [
    "H.s.db = mCalib.out_db\n",
    "H.s.setstate('B')"
   ]
  },
  {
   "cell_type": "markdown",
   "id": "2083bcc6-a7ea-4221-8294-d06ce6d1705f",
   "metadata": {},
   "source": [
    "Export:"
   ]
  },
  {
   "cell_type": "code",
   "execution_count": 10,
   "id": "53ff62b1-973d-4fb5-99e0-0fbb18d2cf70",
   "metadata": {},
   "outputs": [],
   "source": [
    "with open(os.path.join(d['data'], H.name), \"wb\") as file:\n",
    "    pickle.dump(H,file)"
   ]
  }
 ],
 "metadata": {
  "kernelspec": {
   "display_name": "Python 3 (ipykernel)",
   "language": "python",
   "name": "python3"
  },
  "language_info": {
   "codemirror_mode": {
    "name": "ipython",
    "version": 3
   },
   "file_extension": ".py",
   "mimetype": "text/x-python",
   "name": "python",
   "nbconvert_exporter": "python",
   "pygments_lexer": "ipython3",
   "version": "3.9.7"
  }
 },
 "nbformat": 4,
 "nbformat_minor": 5
}
