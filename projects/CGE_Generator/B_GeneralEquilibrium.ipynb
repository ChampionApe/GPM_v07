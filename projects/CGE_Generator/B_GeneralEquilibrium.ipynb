{
 "cells": [
  {
   "cell_type": "code",
   "execution_count": 1,
   "id": "1cef4aa7-0ad0-4975-bf14-45d1684730b7",
   "metadata": {},
   "outputs": [
    {
     "name": "stdout",
     "output_type": "stream",
     "text": [
      "The file _gams_py_gdb0.gdx is still active and was not deleted.\n",
      "The file _gams_py_gdb1.gdx is still active and was not deleted.\n",
      "The file _gams_py_gdb3.gdx is still active and was not deleted.\n"
     ]
    }
   ],
   "source": [
    "clean_up = True\n",
    "%run stdPackages.ipynb"
   ]
  },
  {
   "cell_type": "code",
   "execution_count": 2,
   "id": "3118b2c9-8b60-4094-9d9f-0f27857b77fe",
   "metadata": {},
   "outputs": [],
   "source": [
    "name = 'B'\n",
    "db_IO = pyDatabases.GpyDB(f\"{d['data']}\\\\IO_{name}\") # load IO database named IO_name\n",
    "ws = gams.GamsWorkspace(working_directory=d['work']) # specify where you want to run the GAMS models from (here the repository referred to in d['work'])\n",
    "with open(f\"{d['data']}\\\\glob_{name}\",\"rb\") as file: # load global settings anmed glob_name\n",
    "    glob=pickle.load(file)"
   ]
  },
  {
   "cell_type": "code",
   "execution_count": 3,
   "id": "9dba39a4-50f8-4b96-8581-9a2da59e7d9c",
   "metadata": {},
   "outputs": [],
   "source": [
    "def loadFromPickle(x):\n",
    "    with open(os.path.join(d['data'],x), \"rb\") as file:\n",
    "        return pickle.load(file)"
   ]
  },
  {
   "cell_type": "markdown",
   "id": "55aee032-25cd-4899-9071-5074d800f098",
   "metadata": {},
   "source": [
    "### Load modules and run"
   ]
  },
  {
   "cell_type": "markdown",
   "id": "f5e3c176-2d44-4a99-bb8d-dd0e3e635bb2",
   "metadata": {},
   "source": [
    "Load modules:"
   ]
  },
  {
   "cell_type": "code",
   "execution_count": 4,
   "id": "3b8092a6-9c40-4320-9361-fcadaf3a6d11",
   "metadata": {},
   "outputs": [],
   "source": [
    "modules = [name+k for k in ('Pi','_itory','HH','Trade')]\n",
    "P = CGE_GmsPython.GmsPython(name = name, glob=glob, m = [loadFromPickle(n) for n in modules], s_kwargs = {'ws': ws})"
   ]
  },
  {
   "cell_type": "markdown",
   "id": "cc5ab393-3631-40b1-b4bc-94f96a28f4c1",
   "metadata": {},
   "source": [
    "Add equilibrium module:"
   ]
  },
  {
   "cell_type": "code",
   "execution_count": 5,
   "id": "8f5a691a-f295-409f-beb2-02f0826fd63d",
   "metadata": {},
   "outputs": [],
   "source": [
    "mEqui = CGE_Equilibrium.Equi(name = name, db_IO = db_IO, glob = glob)\n",
    "P.addModule(mEqui, merge_s = True)"
   ]
  },
  {
   "cell_type": "markdown",
   "id": "bd332d9c-c586-447b-8a97-924a262fbd7d",
   "metadata": {},
   "source": [
    "Set up model, write gams code, and run:"
   ]
  },
  {
   "cell_type": "code",
   "execution_count": 6,
   "id": "6acccedd-5451-42a2-8d4b-f4a50c91b382",
   "metadata": {},
   "outputs": [
    {
     "data": {
      "text/plain": [
       "<GmsPy.GmsModel at 0x1dff4b3bd30>"
      ]
     },
     "execution_count": 6,
     "metadata": {},
     "output_type": "execute_result"
    }
   ],
   "source": [
    "P.compile() # re-compile settings\n",
    "P.write() # re-write text\n",
    "m = GmsPy.GmsModel(ws=ws, **{'cns':'CONOPT4'})\n",
    "checkpoint = m.ws.add_checkpoint()\n",
    "P.run(model=m, options_run = {'checkpoint': checkpoint})"
   ]
  },
  {
   "cell_type": "markdown",
   "id": "4bd1f520-3acf-4acb-a003-38d693609303",
   "metadata": {},
   "source": [
    "Increase K0:"
   ]
  },
  {
   "cell_type": "code",
   "execution_count": 12,
   "id": "abec1dcb-0698-4889-9027-bca1e8995a1f",
   "metadata": {},
   "outputs": [],
   "source": [
    "m.run(run = f\"\"\"tauD.fx[t,s,n]$(sameAs(s,'a') and sameAs(n,'b')) = 1; solve {P.s['name']} using CNS;\"\"\", options_add = {'checkpoint': checkpoint})"
   ]
  },
  {
   "cell_type": "markdown",
   "id": "9736c652-34fc-445d-9805-3034d821aada",
   "metadata": {},
   "source": [
    "Switch to calibration mode and re-run:"
   ]
  },
  {
   "cell_type": "code",
   "execution_count": 9,
   "id": "74eaecaf-1906-48fa-a060-bee151cb32f4",
   "metadata": {},
   "outputs": [],
   "source": [
    "# m.run(run=P.s.writeSolveState('C'), options_add = {'checkpoint': checkpoint})"
   ]
  }
 ],
 "metadata": {
  "kernelspec": {
   "display_name": "Python 3 (ipykernel)",
   "language": "python",
   "name": "python3"
  },
  "language_info": {
   "codemirror_mode": {
    "name": "ipython",
    "version": 3
   },
   "file_extension": ".py",
   "mimetype": "text/x-python",
   "name": "python",
   "nbconvert_exporter": "python",
   "pygments_lexer": "ipython3",
   "version": "3.9.7"
  }
 },
 "nbformat": 4,
 "nbformat_minor": 5
}
