{
 "cells": [
  {
   "cell_type": "code",
   "execution_count": 1,
   "id": "a544302e-3029-4392-b6bc-9b96f6c04e3b",
   "metadata": {},
   "outputs": [],
   "source": [
    "clean_up = True\n",
    "%run stdPackages.ipynb"
   ]
  },
  {
   "cell_type": "markdown",
   "id": "175ccb98-bc6f-4d58-9cf1-19b8ab0973cc",
   "metadata": {},
   "source": [
    "*Set up example:*"
   ]
  },
  {
   "cell_type": "code",
   "execution_count": 2,
   "id": "7dca0a57-fbfd-4d30-8f14-c6285cc34805",
   "metadata": {},
   "outputs": [],
   "source": [
    "ws = gams.GamsWorkspace(working_directory=d['work'])\n",
    "glob = CGE_globals.SmallOpen(kwargs_vals = {'t': range(1,5)})\n",
    "name = 'A'\n",
    "data_str = os.path.join(d['data'],'Production_A.xlsx')\n",
    "read_trees = {'Tree1': {'f':'CES'}, 'Tree2': {'f': 'MNL_out'}} # Keys refer sheet, f refers to type.\n",
    "Tree = nestingTree.aggTree_from_data(data_str, read_trees = read_trees, name = name)() # apply call function.\n",
    "P = CGE_Production.Production(tree = Tree, glob = glob)"
   ]
  },
  {
   "cell_type": "markdown",
   "id": "0de1ab0e-bfd6-4f2f-819b-47087f597042",
   "metadata": {
    "tags": []
   },
   "source": [
    "# ```Production```"
   ]
  },
  {
   "cell_type": "markdown",
   "id": "ce3e0893-0ac7-4f49-8506-7606bc205cbe",
   "metadata": {},
   "source": [
    "The ```Production``` module uses nesting trees to build a dynamic, multi-sector model with nested production functions. The fundamental setup is the following:"
   ]
  },
  {
   "cell_type": "markdown",
   "id": "510d7c42-8ba2-4461-bcb0-e71dca0167f3",
   "metadata": {},
   "source": [
    "* The model consists of three fundamental sets that most equations/variables are defined over: (1) $n$ the set of goods in the economy, (2) $s$ the set of sectors, $t$ the time index. We generally use $nn$, $nnn$, $ss$ etc. as aliases for the fundamental sets.\n",
    "* We refer to quantities, prices, and values as $(qS, qD, pS, pD, vS, vD)$. The $S$ indicates that the variable is on the supply of a good, the $D$ that it is a demand variable. Intermediate goods are also referred to as $qD[t,s,n]$.\n",
    "* Market clearing ensures that the sum of supply equals the sum of supply, for a subset of goods $n$. As goods can be demanded/supplied by more than one sector, the market clearing condition is:\n",
    "$$\\begin{align}\n",
    "    \\sum_{s\\in d\\_qS[s,n]} qS[t,s,n] = \\sum_{s\\in d\\_qD[s,n]} qD[t,s,n],\n",
    "\\end{align}$$\n",
    "where $d\\_qS$ and $d\\_qD$ are dummies identifying which sectors are active for the relevant good."
   ]
  },
  {
   "cell_type": "markdown",
   "id": "db0ac5c9-6cbd-4de8-8427-1fab2bf757bc",
   "metadata": {},
   "source": [
    "## 1. Baseline mode:\n",
    "In the baseline mode, the endogenous/exogenous variables of the module are:\n",
    "* Input prices are taken as given. A subset ```input_A[s,n]``` identifies the inputs of the nesting tree (created automatically from the nesting trees). So, $pD[s,n]$ are exogenous for inputs (in partial equilibrium).\n",
    "* Input quantities, intermediate quantities and prices, are all endogenous in the model. The subset ```int_A[s,n]``` identifies intermediate goods. So, $qD[s,n]$ are generally endogenous, so are $pD[s,n]$ for intermediate goods.\n",
    "* Output prices are endogenous while output quantities are exogenous. The subset ```output[s,n]``` identifies outputs. The implicit assumption of the production module is that the entire tree exhibits constant returns to scale (linear homogeneity). So, we can only identify the price $pS[s,n]$, but not the quantity $qS[s,n]$ (in partial equilibrium)."
   ]
  },
  {
   "cell_type": "markdown",
   "id": "69d30a2c-21ed-45e6-b0d2-bed08681f464",
   "metadata": {},
   "source": [
    "In the example we loaded here, the inputs, intermediate goods, and outputs are given by:"
   ]
  },
  {
   "cell_type": "code",
   "execution_count": 3,
   "id": "e18088fc-4f42-44f3-8fe6-c115c8d0156a",
   "metadata": {},
   "outputs": [
    {
     "data": {
      "text/plain": [
       "MultiIndex([('s1', 'K'),\n",
       "            ('s1', 'M'),\n",
       "            ('s2', 'K'),\n",
       "            ('s1', 'L'),\n",
       "            ('s2', 'M'),\n",
       "            ('s2', 'L')],\n",
       "           names=['s', 'n'])"
      ]
     },
     "execution_count": 3,
     "metadata": {},
     "output_type": "execute_result"
    }
   ],
   "source": [
    "P.get('input') # inputs"
   ]
  },
  {
   "cell_type": "code",
   "execution_count": 4,
   "id": "d692fee5-c6be-4368-95e9-aae073ec7d5c",
   "metadata": {},
   "outputs": [
    {
     "data": {
      "text/plain": [
       "MultiIndex([('s2',  'Y'),\n",
       "            ('s1', 'KL')],\n",
       "           names=['s', 'n'])"
      ]
     },
     "execution_count": 4,
     "metadata": {},
     "output_type": "execute_result"
    }
   ],
   "source": [
    "P.get('int') # intermediate goods"
   ]
  },
  {
   "cell_type": "code",
   "execution_count": 5,
   "id": "b43652aa-7e1a-464d-a8e9-382a8bf850ad",
   "metadata": {},
   "outputs": [
    {
     "data": {
      "text/plain": [
       "MultiIndex([('s1', 'a'),\n",
       "            ('s2', 'c'),\n",
       "            ('s2', 'b')],\n",
       "           names=['s', 'n'])"
      ]
     },
     "execution_count": 5,
     "metadata": {},
     "output_type": "execute_result"
    }
   ],
   "source": [
    "P.get('output') # outputs"
   ]
  },
  {
   "cell_type": "markdown",
   "id": "c5b3dd85-77d2-4784-9568-fd24b5f8acef",
   "metadata": {},
   "source": [
    "We can test running the model (we store a checkpoint to re-run from):"
   ]
  },
  {
   "cell_type": "code",
   "execution_count": 6,
   "id": "8975c898-13dc-441d-a494-1974ff6c6eac",
   "metadata": {},
   "outputs": [
    {
     "data": {
      "text/plain": [
       "<GmsPy.GmsModel at 0x1c2994c4f10>"
      ]
     },
     "execution_count": 6,
     "metadata": {},
     "output_type": "execute_result"
    }
   ],
   "source": [
    "P.compile(initDB=True)\n",
    "# P.s['solve'] = f\"\"\"@SolveEmptyNLP({P.s['name']})\"\"\"\n",
    "P.write();\n",
    "model = GmsPy.GmsModel(ws=ws, **{'cns':'CONOPT4'})\n",
    "checkpoint = model.ws.add_checkpoint()\n",
    "P.run(model=model, options_run = {'checkpoint': checkpoint})"
   ]
  },
  {
   "cell_type": "markdown",
   "id": "87829ec4-7561-46bb-88b2-bfcb183f9df9",
   "metadata": {},
   "source": [
    "### A small detour: Sneaky solve"
   ]
  },
  {
   "cell_type": "markdown",
   "id": "9ee716f0-5c8b-42c4-ac32-70fc7df7e874",
   "metadata": {},
   "source": [
    "Let's test the sneaky solve method: Change some of the exogenous variables / parameters in a loop. Extract some of the endogenous variables in the loop:"
   ]
  },
  {
   "cell_type": "markdown",
   "id": "66a5172d-60b6-4d16-a692-49591d4a5e82",
   "metadata": {},
   "source": [
    "*Inputs for sneaky solve:*"
   ]
  },
  {
   "cell_type": "code",
   "execution_count": 7,
   "id": "0ace5a4a-6e91-4502-8fc4-06175e14f142",
   "metadata": {},
   "outputs": [],
   "source": [
    "# args: db0, dbT, name\n",
    "db0 = model.out_db\n",
    "dbT = GpyDB()\n",
    "dbT['g_LR'] = 0.05\n",
    "dbT['sigma'] = db0['sigma'].vals*2.1\n",
    "dbT['pD'] = adj.rc_pd(db0['pD'], P.get('input'))[0:1] * 2\n",
    "name = 'shock'\n",
    "# kwargs with (mostly) default values used:\n",
    "n = 10\n",
    "extractSol = {'qD': P.g('int'), 'pD': ('and', [P.g('int'), P.g('t0')])}\n",
    "db_name = 'grids'\n",
    "loop = 'l1'\n",
    "gridtype = 'linear'\n",
    "phi= 1\n",
    "checkDiff = True\n",
    "error = 1e-11"
   ]
  },
  {
   "cell_type": "markdown",
   "id": "a50910d8-84a9-4459-adaa-183a2f2c5571",
   "metadata": {},
   "source": [
    "Get database with grids:"
   ]
  },
  {
   "cell_type": "code",
   "execution_count": 8,
   "id": "de90a6dc-3fee-4088-b37a-9038f2be6939",
   "metadata": {},
   "outputs": [],
   "source": [
    "db = auxFunctions.gridDB(db0,dbT,name, n = 10, extractSol = extractSol, db_name = db_name, loop=loop, gridtype=gridtype, phi = phi, checkDiff = checkDiff, error = error)"
   ]
  },
  {
   "cell_type": "markdown",
   "id": "70fdfd53-71ac-46af-b297-1ca2c58dc29b",
   "metadata": {},
   "source": [
    "The database automatically creates:\n",
    "* Loop index with name ```loop``` (pandas index, here 'l1').\n",
    "* Subsets that reflect overlap in domains for variables/parameters in ```db0``` and ```dbT```. These are named ```x_name_ss``` with x being the symbol name and name referring to the database name. The 'ss' indicates that it is the relevant subset.\n",
    "* Parameters with grids between symbols in ```db0``` and ```dbT```. These are named ```x_name```. The grids are of the type ```gridtype``` with ```n``` nodes.\n",
    "* Solution parameters used to store solution when looping. These are named ```sol_x_name``` with x being the symbol name and name referring to the database name."
   ]
  },
  {
   "cell_type": "markdown",
   "id": "d98b8904-8b32-48fc-8fc3-94a32980c5ef",
   "metadata": {},
   "source": [
    "We use the grid database to write the relevant gams text by calling:"
   ]
  },
  {
   "cell_type": "code",
   "execution_count": 9,
   "id": "ef62459b-e456-440a-b827-2a89d8aa3495",
   "metadata": {},
   "outputs": [],
   "source": [
    "text = GmsWrite.loopUpdateSolve(loop, name, db, db0, db.updateDict, updateSolDict = db.updateSolDict, model = P.s['name'])"
   ]
  },
  {
   "cell_type": "markdown",
   "id": "b0d29797-545e-4157-aa0f-a4a8a115ba4e",
   "metadata": {},
   "source": [
    "The entire thing can be fixed using (it uses all the settings outlined above as default):"
   ]
  },
  {
   "cell_type": "code",
   "execution_count": 10,
   "id": "b4a06bce-87be-43f3-a04b-fb44281da927",
   "metadata": {},
   "outputs": [],
   "source": [
    "text, db = GmsWrite.SolveLoop(P.s, dbT, **{'extractSol': extractSol})"
   ]
  },
  {
   "cell_type": "markdown",
   "id": "4d006bb9-ae9b-436f-849f-cd02b9871929",
   "metadata": {},
   "source": [
    "To run the experiment, we add the database to the ```GmsModel``` and use the ```text``` as run file:"
   ]
  },
  {
   "cell_type": "code",
   "execution_count": 11,
   "id": "2b12b348-0943-45a5-95ac-dcec7d742ceb",
   "metadata": {},
   "outputs": [
    {
     "data": {
      "text/html": [
       "<div>\n",
       "<style scoped>\n",
       "    .dataframe tbody tr th:only-of-type {\n",
       "        vertical-align: middle;\n",
       "    }\n",
       "\n",
       "    .dataframe tbody tr th {\n",
       "        vertical-align: top;\n",
       "    }\n",
       "\n",
       "    .dataframe thead th {\n",
       "        text-align: right;\n",
       "    }\n",
       "</style>\n",
       "<table border=\"1\" class=\"dataframe\">\n",
       "  <thead>\n",
       "    <tr style=\"text-align: right;\">\n",
       "      <th></th>\n",
       "      <th></th>\n",
       "      <th>l1</th>\n",
       "      <th>l1_1</th>\n",
       "      <th>l1_10</th>\n",
       "      <th>l1_2</th>\n",
       "      <th>l1_3</th>\n",
       "      <th>l1_4</th>\n",
       "      <th>l1_5</th>\n",
       "      <th>l1_6</th>\n",
       "      <th>l1_7</th>\n",
       "      <th>l1_8</th>\n",
       "      <th>l1_9</th>\n",
       "    </tr>\n",
       "    <tr>\n",
       "      <th>t</th>\n",
       "      <th>s</th>\n",
       "      <th>n</th>\n",
       "      <th></th>\n",
       "      <th></th>\n",
       "      <th></th>\n",
       "      <th></th>\n",
       "      <th></th>\n",
       "      <th></th>\n",
       "      <th></th>\n",
       "      <th></th>\n",
       "      <th></th>\n",
       "      <th></th>\n",
       "    </tr>\n",
       "  </thead>\n",
       "  <tbody>\n",
       "    <tr>\n",
       "      <th rowspan=\"2\" valign=\"top\">1</th>\n",
       "      <th>s1</th>\n",
       "      <th>KL</th>\n",
       "      <td>0.5</td>\n",
       "      <td>0.5</td>\n",
       "      <td>0.5</td>\n",
       "      <td>0.5</td>\n",
       "      <td>0.5</td>\n",
       "      <td>0.5</td>\n",
       "      <td>0.5</td>\n",
       "      <td>0.5</td>\n",
       "      <td>0.5</td>\n",
       "      <td>0.5</td>\n",
       "    </tr>\n",
       "    <tr>\n",
       "      <th>s2</th>\n",
       "      <th>Y</th>\n",
       "      <td>2.0</td>\n",
       "      <td>2.0</td>\n",
       "      <td>2.0</td>\n",
       "      <td>2.0</td>\n",
       "      <td>2.0</td>\n",
       "      <td>2.0</td>\n",
       "      <td>2.0</td>\n",
       "      <td>2.0</td>\n",
       "      <td>2.0</td>\n",
       "      <td>2.0</td>\n",
       "    </tr>\n",
       "    <tr>\n",
       "      <th rowspan=\"2\" valign=\"top\">2</th>\n",
       "      <th>s1</th>\n",
       "      <th>KL</th>\n",
       "      <td>0.5</td>\n",
       "      <td>0.5</td>\n",
       "      <td>0.5</td>\n",
       "      <td>0.5</td>\n",
       "      <td>0.5</td>\n",
       "      <td>0.5</td>\n",
       "      <td>0.5</td>\n",
       "      <td>0.5</td>\n",
       "      <td>0.5</td>\n",
       "      <td>0.5</td>\n",
       "    </tr>\n",
       "    <tr>\n",
       "      <th>s2</th>\n",
       "      <th>Y</th>\n",
       "      <td>2.0</td>\n",
       "      <td>2.0</td>\n",
       "      <td>2.0</td>\n",
       "      <td>2.0</td>\n",
       "      <td>2.0</td>\n",
       "      <td>2.0</td>\n",
       "      <td>2.0</td>\n",
       "      <td>2.0</td>\n",
       "      <td>2.0</td>\n",
       "      <td>2.0</td>\n",
       "    </tr>\n",
       "    <tr>\n",
       "      <th rowspan=\"2\" valign=\"top\">3</th>\n",
       "      <th>s1</th>\n",
       "      <th>KL</th>\n",
       "      <td>0.5</td>\n",
       "      <td>0.5</td>\n",
       "      <td>0.5</td>\n",
       "      <td>0.5</td>\n",
       "      <td>0.5</td>\n",
       "      <td>0.5</td>\n",
       "      <td>0.5</td>\n",
       "      <td>0.5</td>\n",
       "      <td>0.5</td>\n",
       "      <td>0.5</td>\n",
       "    </tr>\n",
       "    <tr>\n",
       "      <th>s2</th>\n",
       "      <th>Y</th>\n",
       "      <td>2.0</td>\n",
       "      <td>2.0</td>\n",
       "      <td>2.0</td>\n",
       "      <td>2.0</td>\n",
       "      <td>2.0</td>\n",
       "      <td>2.0</td>\n",
       "      <td>2.0</td>\n",
       "      <td>2.0</td>\n",
       "      <td>2.0</td>\n",
       "      <td>2.0</td>\n",
       "    </tr>\n",
       "    <tr>\n",
       "      <th rowspan=\"2\" valign=\"top\">4</th>\n",
       "      <th>s1</th>\n",
       "      <th>KL</th>\n",
       "      <td>0.5</td>\n",
       "      <td>0.5</td>\n",
       "      <td>0.5</td>\n",
       "      <td>0.5</td>\n",
       "      <td>0.5</td>\n",
       "      <td>0.5</td>\n",
       "      <td>0.5</td>\n",
       "      <td>0.5</td>\n",
       "      <td>0.5</td>\n",
       "      <td>0.5</td>\n",
       "    </tr>\n",
       "    <tr>\n",
       "      <th>s2</th>\n",
       "      <th>Y</th>\n",
       "      <td>0.5</td>\n",
       "      <td>0.5</td>\n",
       "      <td>0.5</td>\n",
       "      <td>0.5</td>\n",
       "      <td>0.5</td>\n",
       "      <td>0.5</td>\n",
       "      <td>0.5</td>\n",
       "      <td>0.5</td>\n",
       "      <td>0.5</td>\n",
       "      <td>0.5</td>\n",
       "    </tr>\n",
       "  </tbody>\n",
       "</table>\n",
       "</div>"
      ],
      "text/plain": [
       "l1      l1_1 l1_10 l1_2 l1_3 l1_4 l1_5 l1_6 l1_7 l1_8 l1_9\n",
       "t s  n                                                    \n",
       "1 s1 KL  0.5   0.5  0.5  0.5  0.5  0.5  0.5  0.5  0.5  0.5\n",
       "  s2 Y   2.0   2.0  2.0  2.0  2.0  2.0  2.0  2.0  2.0  2.0\n",
       "2 s1 KL  0.5   0.5  0.5  0.5  0.5  0.5  0.5  0.5  0.5  0.5\n",
       "  s2 Y   2.0   2.0  2.0  2.0  2.0  2.0  2.0  2.0  2.0  2.0\n",
       "3 s1 KL  0.5   0.5  0.5  0.5  0.5  0.5  0.5  0.5  0.5  0.5\n",
       "  s2 Y   2.0   2.0  2.0  2.0  2.0  2.0  2.0  2.0  2.0  2.0\n",
       "4 s1 KL  0.5   0.5  0.5  0.5  0.5  0.5  0.5  0.5  0.5  0.5\n",
       "  s2 Y   0.5   0.5  0.5  0.5  0.5  0.5  0.5  0.5  0.5  0.5"
      ]
     },
     "execution_count": 11,
     "metadata": {},
     "output_type": "execute_result"
    }
   ],
   "source": [
    "model.addDB(db)\n",
    "model.run(run=text, options_add={'checkpoint':checkpoint})\n",
    "model.out_db.get('sol_qD_shock').unstack('l1')"
   ]
  },
  {
   "cell_type": "markdown",
   "id": "588e5934-473a-426a-b501-224d711e2b6c",
   "metadata": {},
   "source": [
    "### Sneaky solve test:"
   ]
  },
  {
   "cell_type": "markdown",
   "id": "7da1056b-c6bc-417d-a037-e1d85550789f",
   "metadata": {},
   "source": [
    "All the steps that we outlined above can be executed more simply using the ```sneakySolve``` method that is implemented for all ```GmsPython``` instances. This method uses all the same inputs as the basic ```run``` method, and adds two inputs: The target database (arg) and kwargs used in the ```SolveLoop``` method above. It returns a checkpoint that we can proceed from and the ```GmsModel``` instance:"
   ]
  },
  {
   "cell_type": "code",
   "execution_count": 12,
   "id": "966bbdc0-51ed-4ac6-af97-a325e66d1c22",
   "metadata": {},
   "outputs": [],
   "source": [
    "model, cp = P.sneakySolve(dbT, ws = ws, loop_kwargs = {'extractSol': extractSol}, **{'cns': 'CONOPT4'})"
   ]
  },
  {
   "cell_type": "markdown",
   "id": "27d2296e-245a-4826-9218-414017d39f69",
   "metadata": {},
   "source": [
    "## 2. Calibration mode:\n",
    "The module includes a calibration mode, where the settings for exogenous/endogenous groups are flipped:\n",
    "* All inputs and intermediate quantities in the baseline year ```(t0[t])``` are exogenous.\n",
    "* To identify the quantities, we endogenize their counterparts in share parameters ```mu[s,n,nn]```.\n",
    "* We add a couple of small adjustments if (they are added automatically):\n",
    "    * Multiple output sectors: Only one output price is kept endogenous. All other output prices are exogenous. \n",
    "    * If there are nesting trees that are \"scale preserving\" (sum of quantity of branches = quantity of corresponding knot), there is an implicit quantity restriction that does not allow us to endogenize all share parameters in that nest. "
   ]
  },
  {
   "cell_type": "markdown",
   "id": "b4faecb7-d75b-4985-bbc9-ac12d798f652",
   "metadata": {},
   "source": [
    "We switch to the calibration state and re-run:"
   ]
  },
  {
   "cell_type": "code",
   "execution_count": 13,
   "id": "914217f3-f5b2-4a65-a339-93d05e29d644",
   "metadata": {},
   "outputs": [],
   "source": [
    "model.run(run=P.s.writeSolveState('C'), options_add = {'checkpoint': checkpoint})"
   ]
  },
  {
   "cell_type": "markdown",
   "id": "022fc99b-5f83-4076-8921-367a5312f46d",
   "metadata": {},
   "source": [
    "## 3. Adding durables:"
   ]
  },
  {
   "cell_type": "markdown",
   "id": "12a13d4f-c28f-4fbc-bbb9-afd5d02abcde",
   "metadata": {},
   "source": [
    "When we add durables, we think of the following optimization problem:\n",
    "$$\\begin{align}\n",
    "    \\max_{\\lbrace K_{s+1}, I_s\\rbrace_{s=t}^T}&\\sum_{s=t}^{T} \\dfrac{1}{R_{t,s}}\\left[p^K_sK_s-p^I_sI_s-\\Psi\\left(I_s,K_s\\right)\\right] \\\\ \n",
    "    \\text{s.t. }K_{s+1} &= K_s(1-\\delta)+I_s \\\\ \n",
    "    K_{T+1} &= K_T(1+\\rho_K) \\\\\n",
    "    K_t&\\geq 0\\text{ given}.\n",
    "\\end{align}$$"
   ]
  },
  {
   "cell_type": "markdown",
   "id": "5e658e57-23c5-46f1-a8e4-71b09898e2f7",
   "metadata": {},
   "source": [
    "The Lagrangian is defined as:\n",
    "$$\\begin{align}\n",
    "    \\mathcal{L} = \\sum_{s=t}^{T}\\dfrac{1}{R_{t,s}}\\left\\lbrace p_s^KK_s-p_s^II_s-\\Psi\\left(I_s,K_s\\right)+\\lambda_s\\left[I_s+K_s(1-\\delta)-K_{s+1}\\right]\\right\\rbrace \n",
    "\\end{align}$$"
   ]
  },
  {
   "cell_type": "markdown",
   "id": "360f9b92-bcd0-4b82-b72d-2263dc9c925e",
   "metadata": {},
   "source": [
    "The first order conditions are then:\n",
    "$$\\begin{align}\n",
    "    \\dfrac{\\partial \\mathcal{L}}{\\partial K_s} &= -\\lambda_s +\\dfrac{R_{t,s}}{R_{t,s+1}} \\left[p_{s+1}^K-\\dfrac{\\partial \\Psi_{s+1}}{\\partial K_{s+1}}+\\lambda_{s+1}(1-\\delta)\\right] = 0 \\\\ \n",
    "    \\dfrac{\\partial \\mathcal{L}}{\\partial I_s} &= -p_s^I-\\dfrac{\\partial \\Psi_s}{\\partial I_s} + \\lambda_s =0. \n",
    "\\end{align}$$"
   ]
  },
  {
   "cell_type": "markdown",
   "id": "d76eeea6-069f-44da-9c6b-c9e4e2c6c2cd",
   "metadata": {},
   "source": [
    "Combining the first order conditions, optimality requires:\n",
    "$$\\begin{align}\n",
    "    p_s^I+\\dfrac{\\partial \\Psi_s}{\\partial I_s} &= \\dfrac{R_{t,s}}{R_{t,s+1}}\\left[p_{s+1}^K-\\dfrac{\\partial \\Psi_{s+1}}{\\partial K_{s+1}}+(1-\\delta)\\left(p_{s+1}^I+\\dfrac{\\partial \\Psi_{s+1}}{\\partial I_{s+1}}\\right)\\right]\n",
    "\\end{align}$$"
   ]
  },
  {
   "cell_type": "markdown",
   "id": "b1d8687b-8e1e-4bce-aadd-484411c788bb",
   "metadata": {},
   "source": [
    "Rearranging this equation and using $R_{s+1}=R_{t,s+1}/R_{t,s}$ and quadratic installation costs, we then have the system of equations:\n",
    "$$\\begin{align}\n",
    "    p_t^K &= R_t\\left(p_{t-1}^I+\\dfrac{\\partial \\Psi_{t-1}}{\\partial I_{t-1}}\\right)+\\dfrac{\\partial \\Psi_t}{\\partial K_t}-(1-\\delta)\\left(p_t^I+\\dfrac{\\partial \\Psi_t}{\\partial I_t}\\right), \\qquad \\forall t_0<t<T, \\tag{Q} \\\\ \n",
    "    K_{t+1}&=K_t(1-\\delta)+I_t, \\qquad \\forall t<T, \\tag{LOM} \\\\ \n",
    "    K_{T}  &=K_{T-1}(1+\\rho_K), \\tag{TVC} \\\\ \n",
    "    \\Psi_t &= K_t\\dfrac{\\phi_1}{2}\\left(\\dfrac{I_t}{K_t}-\\phi_2\\right)^2, \\qquad \\forall t<T, \\tag{InstCosts}\n",
    "\\end{align}$$"
   ]
  },
  {
   "cell_type": "markdown",
   "id": "3c9b92df-2674-4c70-bfc9-8eb8d70be012",
   "metadata": {},
   "source": [
    "The optimality condition with quadratic costs are then given by:\n",
    "$$\\begin{align}\n",
    "    p_t^K = R_t\\left[p_{t-1}^I+\\phi_1\\left(\\dfrac{I_{t-1}}{K_{t-1}}-\\phi_2\\right)\\right]+\\dfrac{\\phi_1}{2}\\left(\\dfrac{I_t}{K_t}-\\phi_2\\right)^2-(1-\\delta)\\left[p_t^I+\\phi_1\\left(\\dfrac{I_t}{K_t}-\\phi_2\\right)\\right]\n",
    "\\end{align}$$"
   ]
  },
  {
   "cell_type": "markdown",
   "id": "b8372d0c-f35f-417f-85a7-96461fb0a5fd",
   "metadata": {},
   "source": [
    "Assume that we have solved the model without durables first with $p_K = 1$. This is the stationary equilibrium if:\n",
    "$$\\begin{align}\n",
    "    I_t &= \\delta K_t \\\\\n",
    "    \\phi_2 &= \\delta \\\\\n",
    "    p_t^I &= \\dfrac{p_t^K}{R_t-(1-\\delta)}.\n",
    "\\end{align}$$"
   ]
  },
  {
   "cell_type": "markdown",
   "id": "72f9acbf-2625-4ed1-b386-bc084bafad4d",
   "metadata": {},
   "source": [
    "In the production module, we take the price on the investment goods ($I_t$) as given (in partial equilibrium). Note that the causality of the durables module is a bit complicated:\n",
    "* For the very first period, we take the level $K_{t_0}$ as given. The standard nested production function setup includes an equation for the demand of $K_{t_0}$, however. Causally, this equation is used to identify the price $p^K_{t_0}$.\n",
    "* For the other periods $t_0<t<T$, the quantity of $K_t$ is determined from the standard nested production function equations.\n",
    "* The investment levels $I_t$ are determined from the law of motion (LOM).\n",
    "* The quantity $K_T$ is determined from the (TVC).\n",
    "* The prices on capital for $t_0<t<T$ are determined by the (Q) equation.\n",
    "* The level of installation costs $\\Psi$ from (InstCosts)."
   ]
  },
  {
   "cell_type": "markdown",
   "id": "24dcea7f-99c2-44bd-ab8f-e0e7bee07e28",
   "metadata": {},
   "source": [
    "So, when we add these equations, we do the following:\n",
    "* Adjust the subsets in the standard nested production tree: \n",
    "    * All durables are removed from the subset ```input```.\n",
    "    * The corresponding investment goods are added to the subset ```input``` instead.\n",
    "* Define new groups of variables:\n",
    "    * Exogenous variables: Investment parameters $(\\phi_1,\\phi_2,\\delta)$, interest rate $R_t$ (in partial equilibrium), and initial level of durables $(K_{t_0})$. Note that by adding investment variables to the set ```input```, they are automatically included in the correct endogenous/exogenous groups. \n",
    "    * Endogenous: Quantity of durables for $t>t_0$ and prices for $t<T$. Also, the level of installation costs per unit of output is computed.\n",
    "\n",
    "Note that when the model is calibrated, the share parameter on $K_{t_0}$ is still endogenized, while the corresponding investment variable $I_{t_0}$ is made exogenous. **NB: If the durable good enters in a scale preserving input nest, the share parameter might have been chosen to be exogenous. This might be an issue in calibration mode.**"
   ]
  },
  {
   "cell_type": "markdown",
   "id": "a42f96cb-723e-49bc-a50b-61a447e02059",
   "metadata": {},
   "source": [
    "### Specifying durables"
   ]
  },
  {
   "cell_type": "markdown",
   "id": "d9f392b0-8507-49c2-a3f5-68c0ca1c726b",
   "metadata": {},
   "source": [
    "Return data to the baseline solution first:"
   ]
  },
  {
   "cell_type": "code",
   "execution_count": 14,
   "id": "d1165cb9-f518-4f95-a87c-39cd04dbe563",
   "metadata": {},
   "outputs": [],
   "source": [
    "P.s.db = db0"
   ]
  },
  {
   "cell_type": "markdown",
   "id": "16673626-5112-4edc-bb57-3d23381c31dc",
   "metadata": {},
   "source": [
    "We add durables by specifying what subset of variables are durables, and include a mapping from durable to the relevant investment good. For instance:"
   ]
  },
  {
   "cell_type": "code",
   "execution_count": 15,
   "id": "2b2ef023-3387-4679-b19b-1e7416e1630a",
   "metadata": {},
   "outputs": [
    {
     "data": {
      "text/plain": [
       "MultiIndex([('s2', 'K'),\n",
       "            ('s1', 'K')],\n",
       "           names=['s', 'n'])"
      ]
     },
     "execution_count": 15,
     "metadata": {},
     "output_type": "execute_result"
    }
   ],
   "source": [
    "dur = adj.rc_pd( P.get('input'), pd.Index(['K'],name='n')) # durables are all inputs called 'K'\n",
    "dur"
   ]
  },
  {
   "cell_type": "code",
   "execution_count": 16,
   "id": "04d24b3d-57b1-4ba2-8f3b-0423a77bd12f",
   "metadata": {},
   "outputs": [
    {
     "data": {
      "text/plain": [
       "MultiIndex([('s2', 'K', 'I_K'),\n",
       "            ('s1', 'K', 'I_K')],\n",
       "           names=['s', 'n', 'nn'])"
      ]
     },
     "execution_count": 16,
     "metadata": {},
     "output_type": "execute_result"
    }
   ],
   "source": [
    "dur2inv = pd.MultiIndex.from_frame(dur.to_frame(index=False).assign(nn=lambda x: 'I_'+x.n)) # Simply specify the relevant investment goods as 'I_'+ name of the durable\n",
    "dur2inv"
   ]
  },
  {
   "cell_type": "markdown",
   "id": "0bbee23a-dd88-4a5f-ba97-e9e237eedecf",
   "metadata": {},
   "source": [
    "We add the durables using the ```self.addDurables``` method:"
   ]
  },
  {
   "cell_type": "code",
   "execution_count": 17,
   "id": "8a192c46-cd85-4a7d-9421-0e3dc143c658",
   "metadata": {},
   "outputs": [],
   "source": [
    "P.addDurables(dur=dur, dur2inv = dur2inv)"
   ]
  },
  {
   "cell_type": "markdown",
   "id": "39cab115-d760-4859-909a-30e4d639520a",
   "metadata": {},
   "source": [
    "### Solve with durables"
   ]
  },
  {
   "cell_type": "code",
   "execution_count": 18,
   "id": "afaede86-7d4a-4203-9d0a-685689c2876f",
   "metadata": {},
   "outputs": [],
   "source": [
    "P.s.setstate('B')"
   ]
  },
  {
   "cell_type": "markdown",
   "id": "e063cbb2-08ca-48e9-846f-0b4a74c568a2",
   "metadata": {},
   "source": [
    "For the dynamic model, the initial values are critical to be able to identify an initial solution. The easiest way to do this is to start from a steady state solution. This is done by calling ```initDurables``` here. Note, however, that this will alter some of the parameters. "
   ]
  },
  {
   "cell_type": "code",
   "execution_count": 19,
   "id": "060ecb60-8ebe-4d87-9f84-3a4f49d814c6",
   "metadata": {},
   "outputs": [],
   "source": [
    "P.initDurables()\n",
    "P.compile()\n",
    "# P.s['solve'] = f\"\"\"@SolveEmptyNLP({P.s['name']})\"\"\"\n",
    "P.write();\n",
    "model = P.run(exportTo = d['work'], ws=ws,**{'cns': 'CONOPT4'})"
   ]
  }
 ],
 "metadata": {
  "kernelspec": {
   "display_name": "Python 3 (ipykernel)",
   "language": "python",
   "name": "python3"
  },
  "language_info": {
   "codemirror_mode": {
    "name": "ipython",
    "version": 3
   },
   "file_extension": ".py",
   "mimetype": "text/x-python",
   "name": "python",
   "nbconvert_exporter": "python",
   "pygments_lexer": "ipython3",
   "version": "3.9.7"
  }
 },
 "nbformat": 4,
 "nbformat_minor": 5
}
